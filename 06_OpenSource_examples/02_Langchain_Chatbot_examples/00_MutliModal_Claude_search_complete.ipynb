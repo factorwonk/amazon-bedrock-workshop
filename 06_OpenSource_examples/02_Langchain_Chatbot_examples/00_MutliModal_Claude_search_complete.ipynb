{
 "cells": [
  {
   "cell_type": "markdown",
   "id": "9b53c359-3beb-4187-8e1b-9f8e38cb919b",
   "metadata": {},
   "source": [
    "# Build a contextual text and image search engine for product recommendations using Amazon Bedrock (Titan Multimodal Embedding) and Amazon OpenSearch Serverless"
   ]
  },
  {
   "cell_type": "markdown",
   "id": "724a8cce-b821-46e6-b802-32f56ed0234c",
   "metadata": {
    "tags": []
   },
   "source": [
    "The solution presented provides an implementation for building a Amazon Titan Multilodal Embedding Model powered search engine prototype to retrieve and recommend products based on text or image queries. This is a step-by-step guide on how to use [Amazon Bedrock Titan models](https://aws.amazon.com/bedrock/titan) to encode images and text into embeddings, ingest embeddings into [Amazon OpenSearch Service](https://aws.amazon.com/opensearch-service/) index, and query the index using OpenSearch Service [k-nearest neighbors (KNN) functionality](https://docs.aws.amazon.com/opensearch-service/latest/developerguide/knn.html).\n"
   ]
  },
  {
   "cell_type": "markdown",
   "id": "99eadd13-b0d0-4522-9a82-316e4717e3fb",
   "metadata": {},
   "source": [
    "It's recommended to execute the notebook in SageMaker Studio Notebooks `Python 3.0(Data Science)` Kernel with `ml.t3.medium` instance.\n",
    "\n",
    "This notebook has been borrrowed from -- Bedrock samples link here -- [MultiModal Embeddings](https://github.com/aws-samples/amazon-bedrock-samples/tree/main/multimodal/titan-multimodal-embeddings)"
   ]
  },
  {
   "cell_type": "markdown",
   "id": "df481b1e-5052-4bd4-a906-9a6fe87c16ca",
   "metadata": {},
   "source": [
    "Install dependencies"
   ]
  },
  {
   "cell_type": "code",
   "execution_count": 2,
   "id": "3e87b5af-e909-4941-b5e4-33341b96a4a1",
   "metadata": {
    "tags": []
   },
   "outputs": [
    {
     "name": "stdout",
     "output_type": "stream",
     "text": [
      "Requirement already satisfied: opensearch-py in /opt/conda/lib/python3.10/site-packages (2.3.1)\n",
      "Requirement already satisfied: urllib3<2,>=1.21.1 in /opt/conda/lib/python3.10/site-packages (from opensearch-py) (1.26.18)\n",
      "Requirement already satisfied: requests<3.0.0,>=2.4.0 in /opt/conda/lib/python3.10/site-packages (from opensearch-py) (2.32.3)\n",
      "Requirement already satisfied: six in /opt/conda/lib/python3.10/site-packages (from opensearch-py) (1.16.0)\n",
      "Requirement already satisfied: python-dateutil in /opt/conda/lib/python3.10/site-packages (from opensearch-py) (2.9.0.post0)\n",
      "Requirement already satisfied: certifi>=2022.12.07 in /opt/conda/lib/python3.10/site-packages (from opensearch-py) (2024.2.2)\n",
      "Requirement already satisfied: charset-normalizer<4,>=2 in /opt/conda/lib/python3.10/site-packages (from requests<3.0.0,>=2.4.0->opensearch-py) (3.3.2)\n",
      "Requirement already satisfied: idna<4,>=2.5 in /opt/conda/lib/python3.10/site-packages (from requests<3.0.0,>=2.4.0->opensearch-py) (3.6)\n",
      "\u001b[33mWARNING: Running pip as the 'root' user can result in broken permissions and conflicting behaviour with the system package manager. It is recommended to use a virtual environment instead: https://pip.pypa.io/warnings/venv\u001b[0m\u001b[33m\n",
      "\u001b[0mRequirement already satisfied: requests-aws4auth in /opt/conda/lib/python3.10/site-packages (1.2.3)\n",
      "Requirement already satisfied: requests in /opt/conda/lib/python3.10/site-packages (from requests-aws4auth) (2.32.3)\n",
      "Requirement already satisfied: six in /opt/conda/lib/python3.10/site-packages (from requests-aws4auth) (1.16.0)\n",
      "Requirement already satisfied: charset-normalizer<4,>=2 in /opt/conda/lib/python3.10/site-packages (from requests->requests-aws4auth) (3.3.2)\n",
      "Requirement already satisfied: idna<4,>=2.5 in /opt/conda/lib/python3.10/site-packages (from requests->requests-aws4auth) (3.6)\n",
      "Requirement already satisfied: urllib3<3,>=1.21.1 in /opt/conda/lib/python3.10/site-packages (from requests->requests-aws4auth) (1.26.18)\n",
      "Requirement already satisfied: certifi>=2017.4.17 in /opt/conda/lib/python3.10/site-packages (from requests->requests-aws4auth) (2024.2.2)\n",
      "\u001b[33mWARNING: Running pip as the 'root' user can result in broken permissions and conflicting behaviour with the system package manager. It is recommended to use a virtual environment instead: https://pip.pypa.io/warnings/venv\u001b[0m\u001b[33m\n",
      "\u001b[0mRequirement already satisfied: boto3 in /opt/conda/lib/python3.10/site-packages (1.34.120)\n",
      "Requirement already satisfied: botocore<1.35.0,>=1.34.120 in /opt/conda/lib/python3.10/site-packages (from boto3) (1.34.120)\n",
      "Requirement already satisfied: jmespath<2.0.0,>=0.7.1 in /opt/conda/lib/python3.10/site-packages (from boto3) (1.0.1)\n",
      "Requirement already satisfied: s3transfer<0.11.0,>=0.10.0 in /opt/conda/lib/python3.10/site-packages (from boto3) (0.10.1)\n",
      "Requirement already satisfied: python-dateutil<3.0.0,>=2.1 in /opt/conda/lib/python3.10/site-packages (from botocore<1.35.0,>=1.34.120->boto3) (2.9.0.post0)\n",
      "Requirement already satisfied: urllib3!=2.2.0,<3,>=1.25.4 in /opt/conda/lib/python3.10/site-packages (from botocore<1.35.0,>=1.34.120->boto3) (1.26.18)\n",
      "Requirement already satisfied: six>=1.5 in /opt/conda/lib/python3.10/site-packages (from python-dateutil<3.0.0,>=2.1->botocore<1.35.0,>=1.34.120->boto3) (1.16.0)\n",
      "\u001b[33mWARNING: Running pip as the 'root' user can result in broken permissions and conflicting behaviour with the system package manager. It is recommended to use a virtual environment instead: https://pip.pypa.io/warnings/venv\u001b[0m\u001b[33m\n",
      "\u001b[0mRequirement already satisfied: botocore in /opt/conda/lib/python3.10/site-packages (1.34.120)\n",
      "Requirement already satisfied: jmespath<2.0.0,>=0.7.1 in /opt/conda/lib/python3.10/site-packages (from botocore) (1.0.1)\n",
      "Requirement already satisfied: python-dateutil<3.0.0,>=2.1 in /opt/conda/lib/python3.10/site-packages (from botocore) (2.9.0.post0)\n",
      "Requirement already satisfied: urllib3!=2.2.0,<3,>=1.25.4 in /opt/conda/lib/python3.10/site-packages (from botocore) (1.26.18)\n",
      "Requirement already satisfied: six>=1.5 in /opt/conda/lib/python3.10/site-packages (from python-dateutil<3.0.0,>=2.1->botocore) (1.16.0)\n",
      "\u001b[33mWARNING: Running pip as the 'root' user can result in broken permissions and conflicting behaviour with the system package manager. It is recommended to use a virtual environment instead: https://pip.pypa.io/warnings/venv\u001b[0m\u001b[33m\n",
      "\u001b[0mRequirement already satisfied: awscli in /opt/conda/lib/python3.10/site-packages (1.33.2)\n",
      "Requirement already satisfied: botocore==1.34.120 in /opt/conda/lib/python3.10/site-packages (from awscli) (1.34.120)\n",
      "Requirement already satisfied: docutils<0.17,>=0.10 in /opt/conda/lib/python3.10/site-packages (from awscli) (0.16)\n",
      "Requirement already satisfied: s3transfer<0.11.0,>=0.10.0 in /opt/conda/lib/python3.10/site-packages (from awscli) (0.10.1)\n",
      "Requirement already satisfied: PyYAML<6.1,>=3.10 in /opt/conda/lib/python3.10/site-packages (from awscli) (6.0.1)\n",
      "Requirement already satisfied: colorama<0.4.7,>=0.2.5 in /opt/conda/lib/python3.10/site-packages (from awscli) (0.4.6)\n",
      "Requirement already satisfied: rsa<4.8,>=3.1.2 in /opt/conda/lib/python3.10/site-packages (from awscli) (4.7.2)\n",
      "Requirement already satisfied: jmespath<2.0.0,>=0.7.1 in /opt/conda/lib/python3.10/site-packages (from botocore==1.34.120->awscli) (1.0.1)\n",
      "Requirement already satisfied: python-dateutil<3.0.0,>=2.1 in /opt/conda/lib/python3.10/site-packages (from botocore==1.34.120->awscli) (2.9.0.post0)\n",
      "Requirement already satisfied: urllib3!=2.2.0,<3,>=1.25.4 in /opt/conda/lib/python3.10/site-packages (from botocore==1.34.120->awscli) (1.26.18)\n",
      "Requirement already satisfied: pyasn1>=0.1.3 in /opt/conda/lib/python3.10/site-packages (from rsa<4.8,>=3.1.2->awscli) (0.6.0)\n",
      "Requirement already satisfied: six>=1.5 in /opt/conda/lib/python3.10/site-packages (from python-dateutil<3.0.0,>=2.1->botocore==1.34.120->awscli) (1.16.0)\n",
      "\u001b[33mWARNING: Running pip as the 'root' user can result in broken permissions and conflicting behaviour with the system package manager. It is recommended to use a virtual environment instead: https://pip.pypa.io/warnings/venv\u001b[0m\u001b[33m\n",
      "\u001b[0mRequirement already satisfied: s3fs in /opt/conda/lib/python3.10/site-packages (0.4.2)\n",
      "Requirement already satisfied: botocore>=1.12.91 in /opt/conda/lib/python3.10/site-packages (from s3fs) (1.34.120)\n",
      "Requirement already satisfied: fsspec>=0.6.0 in /opt/conda/lib/python3.10/site-packages (from s3fs) (2024.3.1)\n",
      "Requirement already satisfied: jmespath<2.0.0,>=0.7.1 in /opt/conda/lib/python3.10/site-packages (from botocore>=1.12.91->s3fs) (1.0.1)\n",
      "Requirement already satisfied: python-dateutil<3.0.0,>=2.1 in /opt/conda/lib/python3.10/site-packages (from botocore>=1.12.91->s3fs) (2.9.0.post0)\n",
      "Requirement already satisfied: urllib3!=2.2.0,<3,>=1.25.4 in /opt/conda/lib/python3.10/site-packages (from botocore>=1.12.91->s3fs) (1.26.18)\n",
      "Requirement already satisfied: six>=1.5 in /opt/conda/lib/python3.10/site-packages (from python-dateutil<3.0.0,>=2.1->botocore>=1.12.91->s3fs) (1.16.0)\n",
      "\u001b[33mWARNING: Running pip as the 'root' user can result in broken permissions and conflicting behaviour with the system package manager. It is recommended to use a virtual environment instead: https://pip.pypa.io/warnings/venv\u001b[0m\u001b[33m\n",
      "\u001b[0mRequirement already satisfied: sns in /opt/conda/lib/python3.10/site-packages (0.1)\n",
      "\u001b[33mWARNING: Running pip as the 'root' user can result in broken permissions and conflicting behaviour with the system package manager. It is recommended to use a virtual environment instead: https://pip.pypa.io/warnings/venv\u001b[0m\u001b[33m\n",
      "\u001b[0mRequirement already satisfied: seaborn in /opt/conda/lib/python3.10/site-packages (0.13.2)\n",
      "Requirement already satisfied: numpy!=1.24.0,>=1.20 in /opt/conda/lib/python3.10/site-packages (from seaborn) (1.24.4)\n",
      "Requirement already satisfied: pandas>=1.2 in /opt/conda/lib/python3.10/site-packages (from seaborn) (2.2.2)\n",
      "Requirement already satisfied: matplotlib!=3.6.1,>=3.4 in /opt/conda/lib/python3.10/site-packages (from seaborn) (3.8.2)\n",
      "Requirement already satisfied: contourpy>=1.0.1 in /opt/conda/lib/python3.10/site-packages (from matplotlib!=3.6.1,>=3.4->seaborn) (1.2.1)\n",
      "Requirement already satisfied: cycler>=0.10 in /opt/conda/lib/python3.10/site-packages (from matplotlib!=3.6.1,>=3.4->seaborn) (0.12.1)\n",
      "Requirement already satisfied: fonttools>=4.22.0 in /opt/conda/lib/python3.10/site-packages (from matplotlib!=3.6.1,>=3.4->seaborn) (4.51.0)\n",
      "Requirement already satisfied: kiwisolver>=1.3.1 in /opt/conda/lib/python3.10/site-packages (from matplotlib!=3.6.1,>=3.4->seaborn) (1.4.5)\n",
      "Requirement already satisfied: packaging>=20.0 in /opt/conda/lib/python3.10/site-packages (from matplotlib!=3.6.1,>=3.4->seaborn) (23.2)\n",
      "Requirement already satisfied: pillow>=8 in /opt/conda/lib/python3.10/site-packages (from matplotlib!=3.6.1,>=3.4->seaborn) (10.3.0)\n",
      "Requirement already satisfied: pyparsing>=2.3.1 in /opt/conda/lib/python3.10/site-packages (from matplotlib!=3.6.1,>=3.4->seaborn) (3.1.2)\n",
      "Requirement already satisfied: python-dateutil>=2.7 in /opt/conda/lib/python3.10/site-packages (from matplotlib!=3.6.1,>=3.4->seaborn) (2.9.0.post0)\n",
      "Requirement already satisfied: pytz>=2020.1 in /opt/conda/lib/python3.10/site-packages (from pandas>=1.2->seaborn) (2024.1)\n",
      "Requirement already satisfied: tzdata>=2022.7 in /opt/conda/lib/python3.10/site-packages (from pandas>=1.2->seaborn) (2024.1)\n",
      "Requirement already satisfied: six>=1.5 in /opt/conda/lib/python3.10/site-packages (from python-dateutil>=2.7->matplotlib!=3.6.1,>=3.4->seaborn) (1.16.0)\n",
      "\u001b[33mWARNING: Running pip as the 'root' user can result in broken permissions and conflicting behaviour with the system package manager. It is recommended to use a virtual environment instead: https://pip.pypa.io/warnings/venv\u001b[0m\u001b[33m\n",
      "\u001b[0mRequirement already satisfied: sagemaker in /opt/conda/lib/python3.10/site-packages (2.215.0)\n",
      "Requirement already satisfied: attrs<24,>=23.1.0 in /opt/conda/lib/python3.10/site-packages (from sagemaker) (23.2.0)\n",
      "Requirement already satisfied: boto3<2.0,>=1.33.3 in /opt/conda/lib/python3.10/site-packages (from sagemaker) (1.34.120)\n",
      "Requirement already satisfied: cloudpickle==2.2.1 in /opt/conda/lib/python3.10/site-packages (from sagemaker) (2.2.1)\n",
      "Requirement already satisfied: google-pasta in /opt/conda/lib/python3.10/site-packages (from sagemaker) (0.2.0)\n",
      "Requirement already satisfied: numpy<2.0,>=1.9.0 in /opt/conda/lib/python3.10/site-packages (from sagemaker) (1.24.4)\n",
      "Requirement already satisfied: protobuf<5.0,>=3.12 in /opt/conda/lib/python3.10/site-packages (from sagemaker) (4.25.3)\n",
      "Requirement already satisfied: smdebug-rulesconfig==1.0.1 in /opt/conda/lib/python3.10/site-packages (from sagemaker) (1.0.1)\n",
      "Requirement already satisfied: importlib-metadata<7.0,>=1.4.0 in /opt/conda/lib/python3.10/site-packages (from sagemaker) (6.11.0)\n",
      "Requirement already satisfied: packaging>=20.0 in /opt/conda/lib/python3.10/site-packages (from sagemaker) (23.2)\n",
      "Requirement already satisfied: pandas in /opt/conda/lib/python3.10/site-packages (from sagemaker) (2.2.2)\n",
      "Requirement already satisfied: pathos in /opt/conda/lib/python3.10/site-packages (from sagemaker) (0.3.2)\n",
      "Requirement already satisfied: schema in /opt/conda/lib/python3.10/site-packages (from sagemaker) (0.7.5)\n",
      "Requirement already satisfied: PyYAML~=6.0 in /opt/conda/lib/python3.10/site-packages (from sagemaker) (6.0.1)\n",
      "Requirement already satisfied: jsonschema in /opt/conda/lib/python3.10/site-packages (from sagemaker) (4.21.1)\n",
      "Requirement already satisfied: platformdirs in /opt/conda/lib/python3.10/site-packages (from sagemaker) (4.1.0)\n",
      "Requirement already satisfied: tblib<4,>=1.7.0 in /opt/conda/lib/python3.10/site-packages (from sagemaker) (3.0.0)\n",
      "Requirement already satisfied: urllib3<3.0.0,>=1.26.8 in /opt/conda/lib/python3.10/site-packages (from sagemaker) (1.26.18)\n",
      "Requirement already satisfied: requests in /opt/conda/lib/python3.10/site-packages (from sagemaker) (2.32.3)\n",
      "Requirement already satisfied: docker in /opt/conda/lib/python3.10/site-packages (from sagemaker) (6.1.3)\n",
      "Requirement already satisfied: tqdm in /opt/conda/lib/python3.10/site-packages (from sagemaker) (4.66.1)\n",
      "Requirement already satisfied: psutil in /opt/conda/lib/python3.10/site-packages (from sagemaker) (5.9.8)\n",
      "Requirement already satisfied: botocore<1.35.0,>=1.34.120 in /opt/conda/lib/python3.10/site-packages (from boto3<2.0,>=1.33.3->sagemaker) (1.34.120)\n",
      "Requirement already satisfied: jmespath<2.0.0,>=0.7.1 in /opt/conda/lib/python3.10/site-packages (from boto3<2.0,>=1.33.3->sagemaker) (1.0.1)\n",
      "Requirement already satisfied: s3transfer<0.11.0,>=0.10.0 in /opt/conda/lib/python3.10/site-packages (from boto3<2.0,>=1.33.3->sagemaker) (0.10.1)\n",
      "Requirement already satisfied: zipp>=0.5 in /opt/conda/lib/python3.10/site-packages (from importlib-metadata<7.0,>=1.4.0->sagemaker) (3.17.0)\n",
      "Requirement already satisfied: websocket-client>=0.32.0 in /opt/conda/lib/python3.10/site-packages (from docker->sagemaker) (1.7.0)\n",
      "Requirement already satisfied: charset-normalizer<4,>=2 in /opt/conda/lib/python3.10/site-packages (from requests->sagemaker) (3.3.2)\n",
      "Requirement already satisfied: idna<4,>=2.5 in /opt/conda/lib/python3.10/site-packages (from requests->sagemaker) (3.6)\n",
      "Requirement already satisfied: certifi>=2017.4.17 in /opt/conda/lib/python3.10/site-packages (from requests->sagemaker) (2024.2.2)\n",
      "Requirement already satisfied: six in /opt/conda/lib/python3.10/site-packages (from google-pasta->sagemaker) (1.16.0)\n",
      "Requirement already satisfied: jsonschema-specifications>=2023.03.6 in /opt/conda/lib/python3.10/site-packages (from jsonschema->sagemaker) (2023.12.1)\n",
      "Requirement already satisfied: referencing>=0.28.4 in /opt/conda/lib/python3.10/site-packages (from jsonschema->sagemaker) (0.34.0)\n",
      "Requirement already satisfied: rpds-py>=0.7.1 in /opt/conda/lib/python3.10/site-packages (from jsonschema->sagemaker) (0.18.0)\n",
      "Requirement already satisfied: python-dateutil>=2.8.2 in /opt/conda/lib/python3.10/site-packages (from pandas->sagemaker) (2.9.0.post0)\n",
      "Requirement already satisfied: pytz>=2020.1 in /opt/conda/lib/python3.10/site-packages (from pandas->sagemaker) (2024.1)\n",
      "Requirement already satisfied: tzdata>=2022.7 in /opt/conda/lib/python3.10/site-packages (from pandas->sagemaker) (2024.1)\n",
      "Requirement already satisfied: ppft>=1.7.6.8 in /opt/conda/lib/python3.10/site-packages (from pathos->sagemaker) (1.7.6.8)\n",
      "Collecting dill>=0.3.8 (from pathos->sagemaker)\n",
      "  Using cached dill-0.3.8-py3-none-any.whl.metadata (10 kB)\n",
      "Requirement already satisfied: pox>=0.3.4 in /opt/conda/lib/python3.10/site-packages (from pathos->sagemaker) (0.3.4)\n",
      "Requirement already satisfied: multiprocess>=0.70.16 in /opt/conda/lib/python3.10/site-packages (from pathos->sagemaker) (0.70.16)\n",
      "Requirement already satisfied: contextlib2>=0.5.5 in /opt/conda/lib/python3.10/site-packages (from schema->sagemaker) (21.6.0)\n",
      "Using cached dill-0.3.8-py3-none-any.whl (116 kB)\n",
      "Installing collected packages: dill\n",
      "  Attempting uninstall: dill\n",
      "    Found existing installation: dill 0.3.1.1\n",
      "    Uninstalling dill-0.3.1.1:\n",
      "      Successfully uninstalled dill-0.3.1.1\n",
      "\u001b[31mERROR: pip's dependency resolver does not currently take into account all the packages that are installed. This behaviour is the source of the following dependency conflicts.\n",
      "apache-beam 2.52.0 requires dill<0.3.2,>=0.3.1.1, but you have dill 0.3.8 which is incompatible.\n",
      "datasets 2.19.2 requires pyarrow>=12.0.0, but you have pyarrow 11.0.0 which is incompatible.\u001b[0m\u001b[31m\n",
      "\u001b[0mSuccessfully installed dill-0.3.8\n",
      "\u001b[33mWARNING: Running pip as the 'root' user can result in broken permissions and conflicting behaviour with the system package manager. It is recommended to use a virtual environment instead: https://pip.pypa.io/warnings/venv\u001b[0m\u001b[33m\n",
      "\u001b[0m"
     ]
    }
   ],
   "source": [
    "!pip install opensearch-py\n",
    "!pip install requests-aws4auth\n",
    "!pip install -U boto3\n",
    "!pip install -U botocore\n",
    "!pip install -U awscli\n",
    "!pip install s3fs\n",
    "!pip install sns\n",
    "!pip install seaborn\n",
    "!pip install sagemaker"
   ]
  },
  {
   "cell_type": "code",
   "execution_count": 3,
   "id": "94a684c8",
   "metadata": {
    "tags": []
   },
   "outputs": [
    {
     "name": "stdout",
     "output_type": "stream",
     "text": [
      "Requirement already satisfied: boto3 in /opt/conda/lib/python3.10/site-packages (1.34.120)\n",
      "Requirement already satisfied: botocore<1.35.0,>=1.34.120 in /opt/conda/lib/python3.10/site-packages (from boto3) (1.34.120)\n",
      "Requirement already satisfied: jmespath<2.0.0,>=0.7.1 in /opt/conda/lib/python3.10/site-packages (from boto3) (1.0.1)\n",
      "Requirement already satisfied: s3transfer<0.11.0,>=0.10.0 in /opt/conda/lib/python3.10/site-packages (from boto3) (0.10.1)\n",
      "Requirement already satisfied: python-dateutil<3.0.0,>=2.1 in /opt/conda/lib/python3.10/site-packages (from botocore<1.35.0,>=1.34.120->boto3) (2.9.0.post0)\n",
      "Requirement already satisfied: urllib3!=2.2.0,<3,>=1.25.4 in /opt/conda/lib/python3.10/site-packages (from botocore<1.35.0,>=1.34.120->boto3) (1.26.18)\n",
      "Requirement already satisfied: six>=1.5 in /opt/conda/lib/python3.10/site-packages (from python-dateutil<3.0.0,>=2.1->botocore<1.35.0,>=1.34.120->boto3) (1.16.0)\n",
      "\u001b[33mWARNING: Running pip as the 'root' user can result in broken permissions and conflicting behaviour with the system package manager. It is recommended to use a virtual environment instead: https://pip.pypa.io/warnings/venv\u001b[0m\u001b[33m\n",
      "\u001b[0mNote: you may need to restart the kernel to use updated packages.\n",
      "Requirement already satisfied: langchain>=0.1.11 in /opt/conda/lib/python3.10/site-packages (0.2.2)\n",
      "Requirement already satisfied: sqlalchemy in /opt/conda/lib/python3.10/site-packages (2.0.30)\n",
      "Requirement already satisfied: faiss-cpu<2,>=1.7 in /opt/conda/lib/python3.10/site-packages (1.8.0)\n",
      "Requirement already satisfied: pypdf<4,>=3.8 in /opt/conda/lib/python3.10/site-packages (3.17.4)\n",
      "Requirement already satisfied: pinecone-client==2.2.4 in /opt/conda/lib/python3.10/site-packages (2.2.4)\n",
      "Requirement already satisfied: apache-beam==2.52. in /opt/conda/lib/python3.10/site-packages (2.52.0)\n",
      "Requirement already satisfied: tiktoken==0.5.2 in /opt/conda/lib/python3.10/site-packages (0.5.2)\n",
      "Requirement already satisfied: ipywidgets<8,>=7 in /opt/conda/lib/python3.10/site-packages (7.8.1)\n",
      "Requirement already satisfied: matplotlib==3.8.2 in /opt/conda/lib/python3.10/site-packages (3.8.2)\n",
      "Requirement already satisfied: anthropic==0.9.0 in /opt/conda/lib/python3.10/site-packages (0.9.0)\n",
      "Requirement already satisfied: requests>=2.19.0 in /opt/conda/lib/python3.10/site-packages (from pinecone-client==2.2.4) (2.32.3)\n",
      "Requirement already satisfied: pyyaml>=5.4 in /opt/conda/lib/python3.10/site-packages (from pinecone-client==2.2.4) (6.0.1)\n",
      "Requirement already satisfied: loguru>=0.5.0 in /opt/conda/lib/python3.10/site-packages (from pinecone-client==2.2.4) (0.7.2)\n",
      "Requirement already satisfied: typing-extensions>=3.7.4 in /opt/conda/lib/python3.10/site-packages (from pinecone-client==2.2.4) (4.11.0)\n",
      "Requirement already satisfied: dnspython>=2.0.0 in /opt/conda/lib/python3.10/site-packages (from pinecone-client==2.2.4) (2.6.1)\n",
      "Requirement already satisfied: python-dateutil>=2.5.3 in /opt/conda/lib/python3.10/site-packages (from pinecone-client==2.2.4) (2.9.0.post0)\n",
      "Requirement already satisfied: urllib3>=1.21.1 in /opt/conda/lib/python3.10/site-packages (from pinecone-client==2.2.4) (1.26.18)\n",
      "Requirement already satisfied: tqdm>=4.64.1 in /opt/conda/lib/python3.10/site-packages (from pinecone-client==2.2.4) (4.66.1)\n",
      "Requirement already satisfied: numpy>=1.22.0 in /opt/conda/lib/python3.10/site-packages (from pinecone-client==2.2.4) (1.24.4)\n",
      "Requirement already satisfied: crcmod<2.0,>=1.7 in /opt/conda/lib/python3.10/site-packages (from apache-beam==2.52.) (1.7)\n",
      "Requirement already satisfied: orjson<4,>=3.9.7 in /opt/conda/lib/python3.10/site-packages (from apache-beam==2.52.) (3.10.3)\n",
      "Collecting dill<0.3.2,>=0.3.1.1 (from apache-beam==2.52.)\n",
      "  Downloading dill-0.3.1.1.tar.gz (151 kB)\n",
      "\u001b[2K     \u001b[90m━━━━━━━━━━━━━━━━━━━━━━━━━━━━━━━━━━━━━━\u001b[0m \u001b[32m152.0/152.0 kB\u001b[0m \u001b[31m10.9 MB/s\u001b[0m eta \u001b[36m0:00:00\u001b[0m\n",
      "\u001b[?25h  Preparing metadata (setup.py) ... \u001b[?25ldone\n",
      "\u001b[?25hRequirement already satisfied: cloudpickle~=2.2.1 in /opt/conda/lib/python3.10/site-packages (from apache-beam==2.52.) (2.2.1)\n",
      "Requirement already satisfied: fastavro<2,>=0.23.6 in /opt/conda/lib/python3.10/site-packages (from apache-beam==2.52.) (1.9.4)\n",
      "Requirement already satisfied: fasteners<1.0,>=0.3 in /opt/conda/lib/python3.10/site-packages (from apache-beam==2.52.) (0.19)\n",
      "Requirement already satisfied: grpcio!=1.48.0,<2,>=1.33.1 in /opt/conda/lib/python3.10/site-packages (from apache-beam==2.52.) (1.64.1)\n",
      "Requirement already satisfied: hdfs<3.0.0,>=2.1.0 in /opt/conda/lib/python3.10/site-packages (from apache-beam==2.52.) (2.7.3)\n",
      "Requirement already satisfied: httplib2<0.23.0,>=0.8 in /opt/conda/lib/python3.10/site-packages (from apache-beam==2.52.) (0.22.0)\n",
      "Requirement already satisfied: js2py<1,>=0.74 in /opt/conda/lib/python3.10/site-packages (from apache-beam==2.52.) (0.74)\n",
      "Requirement already satisfied: jsonschema<5.0.0,>=4.0.0 in /opt/conda/lib/python3.10/site-packages (from apache-beam==2.52.) (4.21.1)\n",
      "Requirement already satisfied: objsize<0.7.0,>=0.6.1 in /opt/conda/lib/python3.10/site-packages (from apache-beam==2.52.) (0.6.1)\n",
      "Requirement already satisfied: packaging>=22.0 in /opt/conda/lib/python3.10/site-packages (from apache-beam==2.52.) (23.2)\n",
      "Requirement already satisfied: pymongo<5.0.0,>=3.8.0 in /opt/conda/lib/python3.10/site-packages (from apache-beam==2.52.) (4.7.3)\n",
      "Requirement already satisfied: proto-plus<2,>=1.7.1 in /opt/conda/lib/python3.10/site-packages (from apache-beam==2.52.) (1.23.0)\n",
      "Requirement already satisfied: protobuf!=4.0.*,!=4.21.*,!=4.22.0,!=4.23.*,!=4.24.*,<4.26.0,>=3.20.3 in /opt/conda/lib/python3.10/site-packages (from apache-beam==2.52.) (4.25.3)\n",
      "Requirement already satisfied: pydot<2,>=1.2.0 in /opt/conda/lib/python3.10/site-packages (from apache-beam==2.52.) (1.4.2)\n",
      "Requirement already satisfied: pytz>=2018.3 in /opt/conda/lib/python3.10/site-packages (from apache-beam==2.52.) (2024.1)\n",
      "Requirement already satisfied: regex>=2020.6.8 in /opt/conda/lib/python3.10/site-packages (from apache-beam==2.52.) (2023.12.25)\n",
      "Requirement already satisfied: zstandard<1,>=0.18.0 in /opt/conda/lib/python3.10/site-packages (from apache-beam==2.52.) (0.22.0)\n",
      "Requirement already satisfied: pyarrow<12.0.0,>=3.0.0 in /opt/conda/lib/python3.10/site-packages (from apache-beam==2.52.) (11.0.0)\n",
      "Requirement already satisfied: pyarrow-hotfix<1 in /opt/conda/lib/python3.10/site-packages (from apache-beam==2.52.) (0.6)\n",
      "Requirement already satisfied: contourpy>=1.0.1 in /opt/conda/lib/python3.10/site-packages (from matplotlib==3.8.2) (1.2.1)\n",
      "Requirement already satisfied: cycler>=0.10 in /opt/conda/lib/python3.10/site-packages (from matplotlib==3.8.2) (0.12.1)\n",
      "Requirement already satisfied: fonttools>=4.22.0 in /opt/conda/lib/python3.10/site-packages (from matplotlib==3.8.2) (4.51.0)\n",
      "Requirement already satisfied: kiwisolver>=1.3.1 in /opt/conda/lib/python3.10/site-packages (from matplotlib==3.8.2) (1.4.5)\n",
      "Requirement already satisfied: pillow>=8 in /opt/conda/lib/python3.10/site-packages (from matplotlib==3.8.2) (10.3.0)\n",
      "Requirement already satisfied: pyparsing>=2.3.1 in /opt/conda/lib/python3.10/site-packages (from matplotlib==3.8.2) (3.1.2)\n",
      "Requirement already satisfied: anyio<5,>=3.5.0 in /opt/conda/lib/python3.10/site-packages (from anthropic==0.9.0) (4.3.0)\n",
      "Requirement already satisfied: distro<2,>=1.7.0 in /opt/conda/lib/python3.10/site-packages (from anthropic==0.9.0) (1.8.0)\n",
      "Requirement already satisfied: httpx<1,>=0.23.0 in /opt/conda/lib/python3.10/site-packages (from anthropic==0.9.0) (0.27.0)\n",
      "Requirement already satisfied: pydantic<3,>=1.9.0 in /opt/conda/lib/python3.10/site-packages (from anthropic==0.9.0) (2.7.0)\n",
      "Requirement already satisfied: sniffio in /opt/conda/lib/python3.10/site-packages (from anthropic==0.9.0) (1.3.1)\n",
      "Requirement already satisfied: tokenizers>=0.13.0 in /opt/conda/lib/python3.10/site-packages (from anthropic==0.9.0) (0.19.1)\n",
      "Requirement already satisfied: aiohttp<4.0.0,>=3.8.3 in /opt/conda/lib/python3.10/site-packages (from langchain>=0.1.11) (3.9.5)\n",
      "Requirement already satisfied: async-timeout<5.0.0,>=4.0.0 in /opt/conda/lib/python3.10/site-packages (from langchain>=0.1.11) (4.0.3)\n",
      "Requirement already satisfied: langchain-core<0.3.0,>=0.2.0 in /opt/conda/lib/python3.10/site-packages (from langchain>=0.1.11) (0.2.4)\n",
      "Requirement already satisfied: langchain-text-splitters<0.3.0,>=0.2.0 in /opt/conda/lib/python3.10/site-packages (from langchain>=0.1.11) (0.2.1)\n",
      "Requirement already satisfied: langsmith<0.2.0,>=0.1.17 in /opt/conda/lib/python3.10/site-packages (from langchain>=0.1.11) (0.1.73)\n",
      "Requirement already satisfied: tenacity<9.0.0,>=8.1.0 in /opt/conda/lib/python3.10/site-packages (from langchain>=0.1.11) (8.2.3)\n",
      "Requirement already satisfied: greenlet!=0.4.17 in /opt/conda/lib/python3.10/site-packages (from sqlalchemy) (3.0.3)\n",
      "Requirement already satisfied: comm>=0.1.3 in /opt/conda/lib/python3.10/site-packages (from ipywidgets<8,>=7) (0.2.2)\n",
      "Requirement already satisfied: ipython-genutils~=0.2.0 in /opt/conda/lib/python3.10/site-packages (from ipywidgets<8,>=7) (0.2.0)\n",
      "Requirement already satisfied: traitlets>=4.3.1 in /opt/conda/lib/python3.10/site-packages (from ipywidgets<8,>=7) (5.14.2)\n",
      "Requirement already satisfied: widgetsnbextension~=3.6.6 in /opt/conda/lib/python3.10/site-packages (from ipywidgets<8,>=7) (3.6.6)\n",
      "Requirement already satisfied: ipython>=4.0.0 in /opt/conda/lib/python3.10/site-packages (from ipywidgets<8,>=7) (8.23.0)\n",
      "Requirement already satisfied: jupyterlab-widgets<3,>=1.0.0 in /opt/conda/lib/python3.10/site-packages (from ipywidgets<8,>=7) (1.1.7)\n",
      "Requirement already satisfied: aiosignal>=1.1.2 in /opt/conda/lib/python3.10/site-packages (from aiohttp<4.0.0,>=3.8.3->langchain>=0.1.11) (1.3.1)\n",
      "Requirement already satisfied: attrs>=17.3.0 in /opt/conda/lib/python3.10/site-packages (from aiohttp<4.0.0,>=3.8.3->langchain>=0.1.11) (23.2.0)\n",
      "Requirement already satisfied: frozenlist>=1.1.1 in /opt/conda/lib/python3.10/site-packages (from aiohttp<4.0.0,>=3.8.3->langchain>=0.1.11) (1.4.1)\n",
      "Requirement already satisfied: multidict<7.0,>=4.5 in /opt/conda/lib/python3.10/site-packages (from aiohttp<4.0.0,>=3.8.3->langchain>=0.1.11) (6.0.5)\n",
      "Requirement already satisfied: yarl<2.0,>=1.0 in /opt/conda/lib/python3.10/site-packages (from aiohttp<4.0.0,>=3.8.3->langchain>=0.1.11) (1.9.4)\n",
      "Requirement already satisfied: idna>=2.8 in /opt/conda/lib/python3.10/site-packages (from anyio<5,>=3.5.0->anthropic==0.9.0) (3.6)\n",
      "Requirement already satisfied: exceptiongroup>=1.0.2 in /opt/conda/lib/python3.10/site-packages (from anyio<5,>=3.5.0->anthropic==0.9.0) (1.2.0)\n",
      "Requirement already satisfied: docopt in /opt/conda/lib/python3.10/site-packages (from hdfs<3.0.0,>=2.1.0->apache-beam==2.52.) (0.6.2)\n",
      "Requirement already satisfied: six>=1.9.0 in /opt/conda/lib/python3.10/site-packages (from hdfs<3.0.0,>=2.1.0->apache-beam==2.52.) (1.16.0)\n",
      "Requirement already satisfied: certifi in /opt/conda/lib/python3.10/site-packages (from httpx<1,>=0.23.0->anthropic==0.9.0) (2024.2.2)\n",
      "Requirement already satisfied: httpcore==1.* in /opt/conda/lib/python3.10/site-packages (from httpx<1,>=0.23.0->anthropic==0.9.0) (1.0.5)\n",
      "Requirement already satisfied: h11<0.15,>=0.13 in /opt/conda/lib/python3.10/site-packages (from httpcore==1.*->httpx<1,>=0.23.0->anthropic==0.9.0) (0.14.0)\n",
      "Requirement already satisfied: decorator in /opt/conda/lib/python3.10/site-packages (from ipython>=4.0.0->ipywidgets<8,>=7) (5.1.1)\n",
      "Requirement already satisfied: jedi>=0.16 in /opt/conda/lib/python3.10/site-packages (from ipython>=4.0.0->ipywidgets<8,>=7) (0.19.1)\n",
      "Requirement already satisfied: matplotlib-inline in /opt/conda/lib/python3.10/site-packages (from ipython>=4.0.0->ipywidgets<8,>=7) (0.1.6)\n",
      "Requirement already satisfied: prompt-toolkit<3.1.0,>=3.0.41 in /opt/conda/lib/python3.10/site-packages (from ipython>=4.0.0->ipywidgets<8,>=7) (3.0.42)\n",
      "Requirement already satisfied: pygments>=2.4.0 in /opt/conda/lib/python3.10/site-packages (from ipython>=4.0.0->ipywidgets<8,>=7) (2.17.2)\n",
      "Requirement already satisfied: stack-data in /opt/conda/lib/python3.10/site-packages (from ipython>=4.0.0->ipywidgets<8,>=7) (0.6.2)\n",
      "Requirement already satisfied: pexpect>4.3 in /opt/conda/lib/python3.10/site-packages (from ipython>=4.0.0->ipywidgets<8,>=7) (4.9.0)\n",
      "Requirement already satisfied: tzlocal>=1.2 in /opt/conda/lib/python3.10/site-packages (from js2py<1,>=0.74->apache-beam==2.52.) (5.2)\n",
      "Requirement already satisfied: pyjsparser>=2.5.1 in /opt/conda/lib/python3.10/site-packages (from js2py<1,>=0.74->apache-beam==2.52.) (2.7.1)\n",
      "Requirement already satisfied: jsonschema-specifications>=2023.03.6 in /opt/conda/lib/python3.10/site-packages (from jsonschema<5.0.0,>=4.0.0->apache-beam==2.52.) (2023.12.1)\n",
      "Requirement already satisfied: referencing>=0.28.4 in /opt/conda/lib/python3.10/site-packages (from jsonschema<5.0.0,>=4.0.0->apache-beam==2.52.) (0.34.0)\n",
      "Requirement already satisfied: rpds-py>=0.7.1 in /opt/conda/lib/python3.10/site-packages (from jsonschema<5.0.0,>=4.0.0->apache-beam==2.52.) (0.18.0)\n",
      "Requirement already satisfied: jsonpatch<2.0,>=1.33 in /opt/conda/lib/python3.10/site-packages (from langchain-core<0.3.0,>=0.2.0->langchain>=0.1.11) (1.33)\n",
      "Requirement already satisfied: annotated-types>=0.4.0 in /opt/conda/lib/python3.10/site-packages (from pydantic<3,>=1.9.0->anthropic==0.9.0) (0.6.0)\n",
      "Requirement already satisfied: pydantic-core==2.18.1 in /opt/conda/lib/python3.10/site-packages (from pydantic<3,>=1.9.0->anthropic==0.9.0) (2.18.1)\n",
      "Requirement already satisfied: charset-normalizer<4,>=2 in /opt/conda/lib/python3.10/site-packages (from requests>=2.19.0->pinecone-client==2.2.4) (3.3.2)\n",
      "Requirement already satisfied: huggingface-hub<1.0,>=0.16.4 in /opt/conda/lib/python3.10/site-packages (from tokenizers>=0.13.0->anthropic==0.9.0) (0.23.3)\n",
      "Requirement already satisfied: notebook>=4.4.1 in /opt/conda/lib/python3.10/site-packages (from widgetsnbextension~=3.6.6->ipywidgets<8,>=7) (6.5.6)\n",
      "Requirement already satisfied: filelock in /opt/conda/lib/python3.10/site-packages (from huggingface-hub<1.0,>=0.16.4->tokenizers>=0.13.0->anthropic==0.9.0) (3.13.4)\n",
      "Requirement already satisfied: fsspec>=2023.5.0 in /opt/conda/lib/python3.10/site-packages (from huggingface-hub<1.0,>=0.16.4->tokenizers>=0.13.0->anthropic==0.9.0) (2024.3.1)\n",
      "Requirement already satisfied: parso<0.9.0,>=0.8.3 in /opt/conda/lib/python3.10/site-packages (from jedi>=0.16->ipython>=4.0.0->ipywidgets<8,>=7) (0.8.4)\n",
      "Requirement already satisfied: jsonpointer>=1.9 in /opt/conda/lib/python3.10/site-packages (from jsonpatch<2.0,>=1.33->langchain-core<0.3.0,>=0.2.0->langchain>=0.1.11) (2.4)\n",
      "Requirement already satisfied: jinja2 in /opt/conda/lib/python3.10/site-packages (from notebook>=4.4.1->widgetsnbextension~=3.6.6->ipywidgets<8,>=7) (3.1.3)\n",
      "Requirement already satisfied: tornado>=6.1 in /opt/conda/lib/python3.10/site-packages (from notebook>=4.4.1->widgetsnbextension~=3.6.6->ipywidgets<8,>=7) (6.4)\n",
      "Requirement already satisfied: pyzmq<25,>=17 in /opt/conda/lib/python3.10/site-packages (from notebook>=4.4.1->widgetsnbextension~=3.6.6->ipywidgets<8,>=7) (24.0.1)\n",
      "Requirement already satisfied: argon2-cffi in /opt/conda/lib/python3.10/site-packages (from notebook>=4.4.1->widgetsnbextension~=3.6.6->ipywidgets<8,>=7) (23.1.0)\n",
      "Requirement already satisfied: jupyter-core>=4.6.1 in /opt/conda/lib/python3.10/site-packages (from notebook>=4.4.1->widgetsnbextension~=3.6.6->ipywidgets<8,>=7) (5.7.2)\n",
      "Requirement already satisfied: jupyter-client<8,>=5.3.4 in /opt/conda/lib/python3.10/site-packages (from notebook>=4.4.1->widgetsnbextension~=3.6.6->ipywidgets<8,>=7) (7.4.9)\n",
      "Requirement already satisfied: nbformat in /opt/conda/lib/python3.10/site-packages (from notebook>=4.4.1->widgetsnbextension~=3.6.6->ipywidgets<8,>=7) (5.10.4)\n",
      "Requirement already satisfied: nbconvert>=5 in /opt/conda/lib/python3.10/site-packages (from notebook>=4.4.1->widgetsnbextension~=3.6.6->ipywidgets<8,>=7) (6.5.3)\n",
      "Requirement already satisfied: nest-asyncio>=1.5 in /opt/conda/lib/python3.10/site-packages (from notebook>=4.4.1->widgetsnbextension~=3.6.6->ipywidgets<8,>=7) (1.5.5)\n",
      "Requirement already satisfied: ipykernel in /opt/conda/lib/python3.10/site-packages (from notebook>=4.4.1->widgetsnbextension~=3.6.6->ipywidgets<8,>=7) (6.29.3)\n",
      "Requirement already satisfied: Send2Trash>=1.8.0 in /opt/conda/lib/python3.10/site-packages (from notebook>=4.4.1->widgetsnbextension~=3.6.6->ipywidgets<8,>=7) (1.8.3)\n",
      "Requirement already satisfied: terminado>=0.8.3 in /opt/conda/lib/python3.10/site-packages (from notebook>=4.4.1->widgetsnbextension~=3.6.6->ipywidgets<8,>=7) (0.18.1)\n",
      "Requirement already satisfied: prometheus-client in /opt/conda/lib/python3.10/site-packages (from notebook>=4.4.1->widgetsnbextension~=3.6.6->ipywidgets<8,>=7) (0.20.0)\n",
      "Requirement already satisfied: nbclassic>=0.4.7 in /opt/conda/lib/python3.10/site-packages (from notebook>=4.4.1->widgetsnbextension~=3.6.6->ipywidgets<8,>=7) (1.0.0)\n",
      "Requirement already satisfied: ptyprocess>=0.5 in /opt/conda/lib/python3.10/site-packages (from pexpect>4.3->ipython>=4.0.0->ipywidgets<8,>=7) (0.7.0)\n",
      "Requirement already satisfied: wcwidth in /opt/conda/lib/python3.10/site-packages (from prompt-toolkit<3.1.0,>=3.0.41->ipython>=4.0.0->ipywidgets<8,>=7) (0.2.13)\n",
      "Requirement already satisfied: executing>=1.2.0 in /opt/conda/lib/python3.10/site-packages (from stack-data->ipython>=4.0.0->ipywidgets<8,>=7) (2.0.1)\n",
      "Requirement already satisfied: asttokens>=2.1.0 in /opt/conda/lib/python3.10/site-packages (from stack-data->ipython>=4.0.0->ipywidgets<8,>=7) (2.4.1)\n",
      "Requirement already satisfied: pure-eval in /opt/conda/lib/python3.10/site-packages (from stack-data->ipython>=4.0.0->ipywidgets<8,>=7) (0.2.2)\n",
      "Requirement already satisfied: entrypoints in /opt/conda/lib/python3.10/site-packages (from jupyter-client<8,>=5.3.4->notebook>=4.4.1->widgetsnbextension~=3.6.6->ipywidgets<8,>=7) (0.4)\n",
      "Requirement already satisfied: platformdirs>=2.5 in /opt/conda/lib/python3.10/site-packages (from jupyter-core>=4.6.1->notebook>=4.4.1->widgetsnbextension~=3.6.6->ipywidgets<8,>=7) (4.1.0)\n",
      "Requirement already satisfied: jupyter-server>=1.8 in /opt/conda/lib/python3.10/site-packages (from nbclassic>=0.4.7->notebook>=4.4.1->widgetsnbextension~=3.6.6->ipywidgets<8,>=7) (2.14.0)\n",
      "Requirement already satisfied: notebook-shim>=0.2.3 in /opt/conda/lib/python3.10/site-packages (from nbclassic>=0.4.7->notebook>=4.4.1->widgetsnbextension~=3.6.6->ipywidgets<8,>=7) (0.2.4)\n",
      "Requirement already satisfied: lxml in /opt/conda/lib/python3.10/site-packages (from nbconvert>=5->notebook>=4.4.1->widgetsnbextension~=3.6.6->ipywidgets<8,>=7) (5.1.0)\n",
      "Requirement already satisfied: beautifulsoup4 in /opt/conda/lib/python3.10/site-packages (from nbconvert>=5->notebook>=4.4.1->widgetsnbextension~=3.6.6->ipywidgets<8,>=7) (4.12.3)\n",
      "Requirement already satisfied: bleach in /opt/conda/lib/python3.10/site-packages (from nbconvert>=5->notebook>=4.4.1->widgetsnbextension~=3.6.6->ipywidgets<8,>=7) (6.1.0)\n",
      "Requirement already satisfied: defusedxml in /opt/conda/lib/python3.10/site-packages (from nbconvert>=5->notebook>=4.4.1->widgetsnbextension~=3.6.6->ipywidgets<8,>=7) (0.7.1)\n",
      "Requirement already satisfied: jupyterlab-pygments in /opt/conda/lib/python3.10/site-packages (from nbconvert>=5->notebook>=4.4.1->widgetsnbextension~=3.6.6->ipywidgets<8,>=7) (0.3.0)\n",
      "Requirement already satisfied: MarkupSafe>=2.0 in /opt/conda/lib/python3.10/site-packages (from nbconvert>=5->notebook>=4.4.1->widgetsnbextension~=3.6.6->ipywidgets<8,>=7) (2.1.5)\n",
      "Requirement already satisfied: mistune<2,>=0.8.1 in /opt/conda/lib/python3.10/site-packages (from nbconvert>=5->notebook>=4.4.1->widgetsnbextension~=3.6.6->ipywidgets<8,>=7) (0.8.4)\n",
      "Requirement already satisfied: nbclient>=0.5.0 in /opt/conda/lib/python3.10/site-packages (from nbconvert>=5->notebook>=4.4.1->widgetsnbextension~=3.6.6->ipywidgets<8,>=7) (0.10.0)\n",
      "Requirement already satisfied: pandocfilters>=1.4.1 in /opt/conda/lib/python3.10/site-packages (from nbconvert>=5->notebook>=4.4.1->widgetsnbextension~=3.6.6->ipywidgets<8,>=7) (1.5.0)\n",
      "Requirement already satisfied: tinycss2 in /opt/conda/lib/python3.10/site-packages (from nbconvert>=5->notebook>=4.4.1->widgetsnbextension~=3.6.6->ipywidgets<8,>=7) (1.2.1)\n",
      "Requirement already satisfied: fastjsonschema>=2.15 in /opt/conda/lib/python3.10/site-packages (from nbformat->notebook>=4.4.1->widgetsnbextension~=3.6.6->ipywidgets<8,>=7) (2.19.1)\n",
      "Requirement already satisfied: argon2-cffi-bindings in /opt/conda/lib/python3.10/site-packages (from argon2-cffi->notebook>=4.4.1->widgetsnbextension~=3.6.6->ipywidgets<8,>=7) (21.2.0)\n",
      "Requirement already satisfied: debugpy>=1.6.5 in /opt/conda/lib/python3.10/site-packages (from ipykernel->notebook>=4.4.1->widgetsnbextension~=3.6.6->ipywidgets<8,>=7) (1.8.1)\n",
      "Requirement already satisfied: psutil in /opt/conda/lib/python3.10/site-packages (from ipykernel->notebook>=4.4.1->widgetsnbextension~=3.6.6->ipywidgets<8,>=7) (5.9.8)\n",
      "Requirement already satisfied: jupyter-events>=0.9.0 in /opt/conda/lib/python3.10/site-packages (from jupyter-server>=1.8->nbclassic>=0.4.7->notebook>=4.4.1->widgetsnbextension~=3.6.6->ipywidgets<8,>=7) (0.10.0)\n",
      "Requirement already satisfied: jupyter-server-terminals>=0.4.4 in /opt/conda/lib/python3.10/site-packages (from jupyter-server>=1.8->nbclassic>=0.4.7->notebook>=4.4.1->widgetsnbextension~=3.6.6->ipywidgets<8,>=7) (0.5.3)\n",
      "Requirement already satisfied: overrides>=5.0 in /opt/conda/lib/python3.10/site-packages (from jupyter-server>=1.8->nbclassic>=0.4.7->notebook>=4.4.1->widgetsnbextension~=3.6.6->ipywidgets<8,>=7) (7.7.0)\n",
      "Requirement already satisfied: websocket-client>=1.7 in /opt/conda/lib/python3.10/site-packages (from jupyter-server>=1.8->nbclassic>=0.4.7->notebook>=4.4.1->widgetsnbextension~=3.6.6->ipywidgets<8,>=7) (1.7.0)\n",
      "Requirement already satisfied: cffi>=1.0.1 in /opt/conda/lib/python3.10/site-packages (from argon2-cffi-bindings->argon2-cffi->notebook>=4.4.1->widgetsnbextension~=3.6.6->ipywidgets<8,>=7) (1.16.0)\n",
      "Requirement already satisfied: soupsieve>1.2 in /opt/conda/lib/python3.10/site-packages (from beautifulsoup4->nbconvert>=5->notebook>=4.4.1->widgetsnbextension~=3.6.6->ipywidgets<8,>=7) (2.5)\n",
      "Requirement already satisfied: webencodings in /opt/conda/lib/python3.10/site-packages (from bleach->nbconvert>=5->notebook>=4.4.1->widgetsnbextension~=3.6.6->ipywidgets<8,>=7) (0.5.1)\n",
      "Requirement already satisfied: pycparser in /opt/conda/lib/python3.10/site-packages (from cffi>=1.0.1->argon2-cffi-bindings->argon2-cffi->notebook>=4.4.1->widgetsnbextension~=3.6.6->ipywidgets<8,>=7) (2.21)\n",
      "Requirement already satisfied: python-json-logger>=2.0.4 in /opt/conda/lib/python3.10/site-packages (from jupyter-events>=0.9.0->jupyter-server>=1.8->nbclassic>=0.4.7->notebook>=4.4.1->widgetsnbextension~=3.6.6->ipywidgets<8,>=7) (2.0.7)\n",
      "Requirement already satisfied: rfc3339-validator in /opt/conda/lib/python3.10/site-packages (from jupyter-events>=0.9.0->jupyter-server>=1.8->nbclassic>=0.4.7->notebook>=4.4.1->widgetsnbextension~=3.6.6->ipywidgets<8,>=7) (0.1.4)\n",
      "Requirement already satisfied: rfc3986-validator>=0.1.1 in /opt/conda/lib/python3.10/site-packages (from jupyter-events>=0.9.0->jupyter-server>=1.8->nbclassic>=0.4.7->notebook>=4.4.1->widgetsnbextension~=3.6.6->ipywidgets<8,>=7) (0.1.1)\n",
      "Requirement already satisfied: fqdn in /opt/conda/lib/python3.10/site-packages (from jsonschema[format-nongpl]>=4.18.0->jupyter-events>=0.9.0->jupyter-server>=1.8->nbclassic>=0.4.7->notebook>=4.4.1->widgetsnbextension~=3.6.6->ipywidgets<8,>=7) (1.5.1)\n",
      "Requirement already satisfied: isoduration in /opt/conda/lib/python3.10/site-packages (from jsonschema[format-nongpl]>=4.18.0->jupyter-events>=0.9.0->jupyter-server>=1.8->nbclassic>=0.4.7->notebook>=4.4.1->widgetsnbextension~=3.6.6->ipywidgets<8,>=7) (20.11.0)\n",
      "Requirement already satisfied: uri-template in /opt/conda/lib/python3.10/site-packages (from jsonschema[format-nongpl]>=4.18.0->jupyter-events>=0.9.0->jupyter-server>=1.8->nbclassic>=0.4.7->notebook>=4.4.1->widgetsnbextension~=3.6.6->ipywidgets<8,>=7) (1.3.0)\n",
      "Requirement already satisfied: webcolors>=1.11 in /opt/conda/lib/python3.10/site-packages (from jsonschema[format-nongpl]>=4.18.0->jupyter-events>=0.9.0->jupyter-server>=1.8->nbclassic>=0.4.7->notebook>=4.4.1->widgetsnbextension~=3.6.6->ipywidgets<8,>=7) (1.13)\n",
      "Requirement already satisfied: arrow>=0.15.0 in /opt/conda/lib/python3.10/site-packages (from isoduration->jsonschema[format-nongpl]>=4.18.0->jupyter-events>=0.9.0->jupyter-server>=1.8->nbclassic>=0.4.7->notebook>=4.4.1->widgetsnbextension~=3.6.6->ipywidgets<8,>=7) (1.3.0)\n",
      "Requirement already satisfied: types-python-dateutil>=2.8.10 in /opt/conda/lib/python3.10/site-packages (from arrow>=0.15.0->isoduration->jsonschema[format-nongpl]>=4.18.0->jupyter-events>=0.9.0->jupyter-server>=1.8->nbclassic>=0.4.7->notebook>=4.4.1->widgetsnbextension~=3.6.6->ipywidgets<8,>=7) (2.9.0.20240316)\n",
      "Building wheels for collected packages: dill\n",
      "  Building wheel for dill (setup.py) ... \u001b[?25ldone\n",
      "\u001b[?25h  Created wheel for dill: filename=dill-0.3.1.1-py3-none-any.whl size=78541 sha256=6c03097e6967cc00767dd2704dadce8ebdd14a61d4a2227f0b696d110dd7cfdd\n",
      "  Stored in directory: /tmp/pip-ephem-wheel-cache-6pdf_kk9/wheels/ea/e2/86/64980d90e297e7bf2ce588c2b96e818f5399c515c4bb8a7e4f\n",
      "Successfully built dill\n",
      "Installing collected packages: dill\n",
      "  Attempting uninstall: dill\n",
      "    Found existing installation: dill 0.3.8\n",
      "    Uninstalling dill-0.3.8:\n",
      "      Successfully uninstalled dill-0.3.8\n",
      "\u001b[31mERROR: pip's dependency resolver does not currently take into account all the packages that are installed. This behaviour is the source of the following dependency conflicts.\n",
      "datasets 2.19.2 requires pyarrow>=12.0.0, but you have pyarrow 11.0.0 which is incompatible.\n",
      "multiprocess 0.70.16 requires dill>=0.3.8, but you have dill 0.3.1.1 which is incompatible.\n",
      "pathos 0.3.2 requires dill>=0.3.8, but you have dill 0.3.1.1 which is incompatible.\u001b[0m\u001b[31m\n",
      "\u001b[0mSuccessfully installed dill-0.3.1.1\n",
      "\u001b[33mWARNING: Running pip as the 'root' user can result in broken permissions and conflicting behaviour with the system package manager. It is recommended to use a virtual environment instead: https://pip.pypa.io/warnings/venv\u001b[0m\u001b[33m\n",
      "\u001b[0mNote: you may need to restart the kernel to use updated packages.\n",
      "Requirement already satisfied: transformers in /opt/conda/lib/python3.10/site-packages (4.41.2)\n",
      "Requirement already satisfied: filelock in /opt/conda/lib/python3.10/site-packages (from transformers) (3.13.4)\n",
      "Requirement already satisfied: huggingface-hub<1.0,>=0.23.0 in /opt/conda/lib/python3.10/site-packages (from transformers) (0.23.3)\n",
      "Requirement already satisfied: numpy>=1.17 in /opt/conda/lib/python3.10/site-packages (from transformers) (1.24.4)\n",
      "Requirement already satisfied: packaging>=20.0 in /opt/conda/lib/python3.10/site-packages (from transformers) (23.2)\n",
      "Requirement already satisfied: pyyaml>=5.1 in /opt/conda/lib/python3.10/site-packages (from transformers) (6.0.1)\n",
      "Requirement already satisfied: regex!=2019.12.17 in /opt/conda/lib/python3.10/site-packages (from transformers) (2023.12.25)\n",
      "Requirement already satisfied: requests in /opt/conda/lib/python3.10/site-packages (from transformers) (2.32.3)\n",
      "Requirement already satisfied: tokenizers<0.20,>=0.19 in /opt/conda/lib/python3.10/site-packages (from transformers) (0.19.1)\n",
      "Requirement already satisfied: safetensors>=0.4.1 in /opt/conda/lib/python3.10/site-packages (from transformers) (0.4.3)\n",
      "Requirement already satisfied: tqdm>=4.27 in /opt/conda/lib/python3.10/site-packages (from transformers) (4.66.1)\n",
      "Requirement already satisfied: fsspec>=2023.5.0 in /opt/conda/lib/python3.10/site-packages (from huggingface-hub<1.0,>=0.23.0->transformers) (2024.3.1)\n",
      "Requirement already satisfied: typing-extensions>=3.7.4.3 in /opt/conda/lib/python3.10/site-packages (from huggingface-hub<1.0,>=0.23.0->transformers) (4.11.0)\n",
      "Requirement already satisfied: charset-normalizer<4,>=2 in /opt/conda/lib/python3.10/site-packages (from requests->transformers) (3.3.2)\n",
      "Requirement already satisfied: idna<4,>=2.5 in /opt/conda/lib/python3.10/site-packages (from requests->transformers) (3.6)\n",
      "Requirement already satisfied: urllib3<3,>=1.21.1 in /opt/conda/lib/python3.10/site-packages (from requests->transformers) (1.26.18)\n",
      "Requirement already satisfied: certifi>=2017.4.17 in /opt/conda/lib/python3.10/site-packages (from requests->transformers) (2024.2.2)\n",
      "\u001b[33mWARNING: Running pip as the 'root' user can result in broken permissions and conflicting behaviour with the system package manager. It is recommended to use a virtual environment instead: https://pip.pypa.io/warnings/venv\u001b[0m\u001b[33m\n",
      "\u001b[0mNote: you may need to restart the kernel to use updated packages.\n"
     ]
    }
   ],
   "source": [
    "%pip install -U --no-cache-dir boto3\n",
    "%pip install -U --no-cache-dir  \\\n",
    "    \"langchain>=0.1.11\" \\\n",
    "    sqlalchemy -U \\\n",
    "    \"faiss-cpu>=1.7,<2\" \\\n",
    "    \"pypdf>=3.8,<4\" \\\n",
    "    pinecone-client==2.2.4 \\\n",
    "    apache-beam==2.52. \\\n",
    "    tiktoken==0.5.2 \\\n",
    "    \"ipywidgets>=7,<8\" \\\n",
    "    matplotlib==3.8.2 \\\n",
    "    anthropic==0.9.0\n",
    "%pip install -U --no-cache-dir transformers"
   ]
  },
  {
   "cell_type": "code",
   "execution_count": 4,
   "id": "36de85df",
   "metadata": {
    "tags": []
   },
   "outputs": [
    {
     "name": "stdout",
     "output_type": "stream",
     "text": [
      "Requirement already satisfied: sqlalchemy in /opt/conda/lib/python3.10/site-packages (2.0.30)\n",
      "Requirement already satisfied: typing-extensions>=4.6.0 in /opt/conda/lib/python3.10/site-packages (from sqlalchemy) (4.11.0)\n",
      "Requirement already satisfied: greenlet!=0.4.17 in /opt/conda/lib/python3.10/site-packages (from sqlalchemy) (3.0.3)\n",
      "\u001b[33mWARNING: Running pip as the 'root' user can result in broken permissions and conflicting behaviour with the system package manager. It is recommended to use a virtual environment instead: https://pip.pypa.io/warnings/venv\u001b[0m\u001b[33m\n",
      "\u001b[0m"
     ]
    }
   ],
   "source": [
    "!pip install sqlalchemy --upgrade"
   ]
  },
  {
   "cell_type": "code",
   "execution_count": 5,
   "id": "3391fc25-1843-4339-9673-9f08adcf1b2c",
   "metadata": {
    "tags": []
   },
   "outputs": [
    {
     "data": {
      "text/html": [
       "<script>Jupyter.notebook.kernel.restart()</script>"
      ],
      "text/plain": [
       "<IPython.core.display.HTML object>"
      ]
     },
     "execution_count": 5,
     "metadata": {},
     "output_type": "execute_result"
    }
   ],
   "source": [
    "# restart kernel\n",
    "from IPython.core.display import HTML\n",
    "HTML(\"<script>Jupyter.notebook.kernel.restart()</script>\")"
   ]
  },
  {
   "cell_type": "markdown",
   "id": "621adbe6-d2b4-4f38-9b1c-44bba2bc64d9",
   "metadata": {},
   "source": [
    "## 1. Setup"
   ]
  },
  {
   "cell_type": "markdown",
   "id": "1fedfd22-e34e-4d0d-9d90-ddf122161c5b",
   "metadata": {},
   "source": [
    "Install some python packages we are going to use in the POC. For the sake of abstraction, we have defined all important function used in this notebook in utils.py"
   ]
  },
  {
   "cell_type": "code",
   "execution_count": 6,
   "id": "d3763f77-ab52-4f7e-9358-15b48896f608",
   "metadata": {
    "tags": []
   },
   "outputs": [
    {
     "name": "stdout",
     "output_type": "stream",
     "text": [
      "sagemaker.config INFO - Not applying SDK defaults from location: /etc/xdg/sagemaker/config.yaml\n",
      "sagemaker.config INFO - Not applying SDK defaults from location: /root/.config/sagemaker/config.yaml\n"
     ]
    }
   ],
   "source": [
    "import boto3\n",
    "import pandas as pd\n",
    "import os\n",
    "import re\n",
    "import boto3\n",
    "import json\n",
    "import time\n",
    "import base64\n",
    "import logging\n",
    "import numpy as np\n",
    "import seaborn as sns\n",
    "from PIL import Image\n",
    "from io import BytesIO\n",
    "\n",
    "\n",
    "from tqdm import tqdm\n",
    "from urllib.parse import urlparse\n",
    "from multiprocessing.pool import ThreadPool\n",
    "from sagemaker.s3 import S3Downloader as s3down\n",
    "\n",
    "# import sagemaker\n",
    "# from utils import *\n",
    "from opensearchpy import OpenSearch, RequestsHttpConnection, AWSV4SignerAuth, helpers\n",
    "from PIL import Image\n",
    "import matplotlib.pyplot as plt"
   ]
  },
  {
   "cell_type": "code",
   "execution_count": 7,
   "id": "96a1a111-d79e-4b16-8bdf-35b68b198c4f",
   "metadata": {
    "tags": []
   },
   "outputs": [],
   "source": [
    "import boto3\n",
    "import os\n",
    "from IPython.display import Markdown, display, Pretty\n",
    "\n",
    "# getting boto3 clients for required AWS services\n",
    "sts_client = boto3.client('sts')\n",
    "s3_client = boto3.client('s3')\n",
    "#aoss_client = boto3.client('opensearchserverless')\n",
    "\n",
    "\n",
    "\n",
    "region = os.environ.get(\"AWS_REGION\")\n",
    "boto3_bedrock = boto3.client(\n",
    "    service_name='bedrock-runtime',\n",
    "    region_name=region,\n",
    ")"
   ]
  },
  {
   "cell_type": "markdown",
   "id": "b7cbfd79-97b7-4067-9688-26be5148693c",
   "metadata": {
    "tags": []
   },
   "source": [
    "## 2. Load publically available dataset"
   ]
  },
  {
   "cell_type": "markdown",
   "id": "6daf6b82-7e3e-4c56-bb2f-288c0e0c8fb8",
   "metadata": {},
   "source": [
    "For this notebook, you are using the Amazon Berkeley Objects Dataset. The dataset is a collection of 147,702 product listings with multilingual metadata and 398,212 unique catalog images. 8,222 listings come with turntable photography. You will only make use of the item images and item name in US English (which is we consider as the product’s short description). For demo purposes you are going to use about 1,600 products for this practice. "
   ]
  },
  {
   "cell_type": "code",
   "execution_count": 8,
   "id": "a88974bf",
   "metadata": {
    "tags": []
   },
   "outputs": [],
   "source": [
    "# Bedrock models\n",
    "# Select Amazon titan-embed-image-v1 as Embedding model for multimodal indexing\n",
    "multimodal_embed_model = f'amazon.titan-embed-image-v1'\n",
    "\n",
    "\n",
    "\"\"\" \n",
    "Function to plot heatmap from embeddings\n",
    "\"\"\"\n",
    "\n",
    "def plot_similarity_heatmap(embeddings_a, embeddings_b):\n",
    "    inner_product = np.inner(embeddings_a, embeddings_b)\n",
    "    sns.set(font_scale=1.1)\n",
    "    graph = sns.heatmap(\n",
    "        inner_product,\n",
    "        vmin=np.min(inner_product),\n",
    "        vmax=1,\n",
    "        cmap=\"OrRd\",\n",
    "    )\n",
    "\n",
    "\"\"\" \n",
    "Function to fetch the image based on image id from dataset\n",
    "\"\"\"\n",
    "def get_image_from_item_id( item_id = \"0\", dataset = None, return_image=True):\n",
    " \n",
    "    item_idx = dataset.query(f\"item_id == {item_id}\").index[0]\n",
    "    img_path = dataset.iloc[item_idx].image_path\n",
    "    \n",
    "    if return_image:\n",
    "        img = Image.open(img_path)\n",
    "        return img, dataset.iloc[item_idx].item_desc\n",
    "    else:\n",
    "        return img_path, dataset.iloc[item_idx].item_desc\n",
    "    print(item_idx,img_path)\n",
    "\n",
    "\n",
    "\"\"\" \n",
    "Function to fetch the image based on image id from S3 bucket\n",
    "\"\"\"\n",
    "    \n",
    "def get_image_from_item_id_s3(item_id = \"B0896LJNLH\", dataset = None, image_path = None,  return_image=True):\n",
    "\n",
    "    item_idx = dataset.query(f\"item_id == '{item_id}'\").index[0]\n",
    "    img_loc =  dataset.iloc[item_idx].img_full_path\n",
    "    \n",
    "    if img_loc.startswith('s3'):\n",
    "        # download and store images locally \n",
    "        local_data_root = f'./data/images'\n",
    "        local_file_name = img_loc.split('/')[-1]\n",
    " \n",
    "        s3down.download(img_loc, local_data_root)\n",
    " \n",
    "    local_image_path = f\"{local_data_root}/{local_file_name}\"\n",
    "    \n",
    "    if return_image:\n",
    "        img = Image.open(local_image_path)\n",
    "        return img, dataset.iloc[item_idx].item_name_in_en_us\n",
    "    else:\n",
    "        return local_image_path, dataset.iloc[item_idx].item_name_in_en_us\n",
    "\n",
    "\"\"\" \n",
    "Function to display the images.\n",
    "\"\"\"\n",
    "def display_images(images: [Image], columns=2, width=20, height=8, max_images=15, label_wrap_length=50, label_font_size=8):\n",
    " \n",
    "    if not images:\n",
    "        print(\"No images to display.\")\n",
    "        return \n",
    " \n",
    "    if len(images) > max_images:\n",
    "        print(f\"Showing {max_images} images of {len(images)}:\")\n",
    "        images=images[0:max_images]\n",
    " \n",
    "    height = max(height, int(len(images)/columns) * height)\n",
    "    plt.figure(figsize=(width, height))\n",
    "    for i, image in enumerate(images):\n",
    " \n",
    "        plt.subplot(int(len(images) / columns + 1), columns, i + 1)\n",
    "        plt.imshow(image)\n",
    " \n",
    "        if hasattr(image, 'name_and_score'):\n",
    "            plt.title(image.name_and_score, fontsize=label_font_size); \n",
    "            \n",
    "\n",
    "\n"
   ]
  },
  {
   "cell_type": "markdown",
   "id": "01027603-23b4-43a0-836c-fe7e9a76870c",
   "metadata": {},
   "source": [
    "### 2.1 Data overview and preparation"
   ]
  },
  {
   "cell_type": "markdown",
   "id": "9031eae0-b532-40fd-8170-cecb41d0fb94",
   "metadata": {},
   "source": [
    "Load the metadata\n",
    "\n",
    "You can use pandas to load metadata, then select products which have titles in US English from the data frame. You will use a column called main_image_id to merge item name with item image later."
   ]
  },
  {
   "cell_type": "code",
   "execution_count": 9,
   "id": "c8fb9f25-79fc-418d-8c65-68920afca46d",
   "metadata": {
    "tags": []
   },
   "outputs": [
    {
     "name": "stderr",
     "output_type": "stream",
     "text": [
      "/opt/conda/lib/python3.10/site-packages/fsspec/registry.py:275: UserWarning: Your installed version of s3fs is very old and known to cause\n",
      "severe performance issues, see also https://github.com/dask/dask/issues/10276\n",
      "\n",
      "To fix, you should specify a lower version bound on s3fs, or\n",
      "update the current installation.\n",
      "\n",
      "  warnings.warn(s3_msg)\n"
     ]
    },
    {
     "name": "stdout",
     "output_type": "stream",
     "text": [
      "#products with US English title: 1655\n"
     ]
    },
    {
     "data": {
      "text/html": [
       "<div>\n",
       "<style scoped>\n",
       "    .dataframe tbody tr th:only-of-type {\n",
       "        vertical-align: middle;\n",
       "    }\n",
       "\n",
       "    .dataframe tbody tr th {\n",
       "        vertical-align: top;\n",
       "    }\n",
       "\n",
       "    .dataframe thead th {\n",
       "        text-align: right;\n",
       "    }\n",
       "</style>\n",
       "<table border=\"1\" class=\"dataframe\">\n",
       "  <thead>\n",
       "    <tr style=\"text-align: right;\">\n",
       "      <th></th>\n",
       "      <th>item_id</th>\n",
       "      <th>item_name_in_en_us</th>\n",
       "      <th>main_image_id</th>\n",
       "    </tr>\n",
       "  </thead>\n",
       "  <tbody>\n",
       "    <tr>\n",
       "      <th>7</th>\n",
       "      <td>B0896LJNLH</td>\n",
       "      <td>AmazonBasics Serene 16-Piece Old Fashioned and...</td>\n",
       "      <td>61izEZdhlaL</td>\n",
       "    </tr>\n",
       "    <tr>\n",
       "      <th>18</th>\n",
       "      <td>B07HCR1LSQ</td>\n",
       "      <td>[Find] Amazon Collection Platinum Plated Sterl...</td>\n",
       "      <td>61kDp2x8tPL</td>\n",
       "    </tr>\n",
       "    <tr>\n",
       "      <th>22</th>\n",
       "      <td>B075DQBBJZ</td>\n",
       "      <td>Arizona Desert Sand Horizon Photo with Wood Ha...</td>\n",
       "      <td>91IjyKZ76qL</td>\n",
       "    </tr>\n",
       "    <tr>\n",
       "      <th>38</th>\n",
       "      <td>B07S74D9T7</td>\n",
       "      <td>AmazonBasics Adjustable Speaker Stand - 3.8 to...</td>\n",
       "      <td>71x4c-BafpL</td>\n",
       "    </tr>\n",
       "    <tr>\n",
       "      <th>39</th>\n",
       "      <td>B01N27SMXC</td>\n",
       "      <td>Amazon Brand - The Fix Women's Foley Tassel Sl...</td>\n",
       "      <td>71-eMu0gN+L</td>\n",
       "    </tr>\n",
       "  </tbody>\n",
       "</table>\n",
       "</div>"
      ],
      "text/plain": [
       "       item_id                                 item_name_in_en_us  \\\n",
       "7   B0896LJNLH  AmazonBasics Serene 16-Piece Old Fashioned and...   \n",
       "18  B07HCR1LSQ  [Find] Amazon Collection Platinum Plated Sterl...   \n",
       "22  B075DQBBJZ  Arizona Desert Sand Horizon Photo with Wood Ha...   \n",
       "38  B07S74D9T7  AmazonBasics Adjustable Speaker Stand - 3.8 to...   \n",
       "39  B01N27SMXC  Amazon Brand - The Fix Women's Foley Tassel Sl...   \n",
       "\n",
       "   main_image_id  \n",
       "7    61izEZdhlaL  \n",
       "18   61kDp2x8tPL  \n",
       "22   91IjyKZ76qL  \n",
       "38   71x4c-BafpL  \n",
       "39   71-eMu0gN+L  "
      ]
     },
     "execution_count": 9,
     "metadata": {},
     "output_type": "execute_result"
    }
   ],
   "source": [
    "meta = pd.read_json(\"s3://amazon-berkeley-objects/listings/metadata/listings_0.json.gz\", lines=True)\n",
    "def func_(x):\n",
    "    us_texts = [item[\"value\"] for item in x if item[\"language_tag\"] == \"en_US\"]\n",
    "    return us_texts[0] if us_texts else None\n",
    "\n",
    "meta = meta.assign(item_name_in_en_us=meta.item_name.apply(func_))\n",
    "meta = meta[~meta.item_name_in_en_us.isna()][[\"item_id\", \"item_name_in_en_us\", \"main_image_id\"]]\n",
    "print(f\"#products with US English title: {len(meta)}\")\n",
    "meta.head()"
   ]
  },
  {
   "cell_type": "markdown",
   "id": "cab441ee-61bc-4c5c-84a0-2766359ec76f",
   "metadata": {},
   "source": [
    "You should be able to see over 1600 products in the data frame.\n",
    "Next, you can link the item names with item images. `images/metadata/images.csv.gz` contains Image metadata. This file is a gzip-compressed comma-separated value (CSV) file with the following columns: `image_id`, `height`, `width`, and `path`. You can read the meta data file and then merge it with item metadata."
   ]
  },
  {
   "cell_type": "code",
   "execution_count": 10,
   "id": "51e956a3-e679-4529-be39-a065f4601e91",
   "metadata": {
    "tags": []
   },
   "outputs": [],
   "source": [
    "image_meta = pd.read_csv(\"s3://amazon-berkeley-objects/images/metadata/images.csv.gz\")\n",
    "dataset = meta.merge(image_meta, left_on=\"main_image_id\", right_on=\"image_id\")"
   ]
  },
  {
   "cell_type": "code",
   "execution_count": 11,
   "id": "63706e95-2038-4160-bd4e-11d247639780",
   "metadata": {
    "tags": []
   },
   "outputs": [
    {
     "data": {
      "text/html": [
       "<div>\n",
       "<style scoped>\n",
       "    .dataframe tbody tr th:only-of-type {\n",
       "        vertical-align: middle;\n",
       "    }\n",
       "\n",
       "    .dataframe tbody tr th {\n",
       "        vertical-align: top;\n",
       "    }\n",
       "\n",
       "    .dataframe thead th {\n",
       "        text-align: right;\n",
       "    }\n",
       "</style>\n",
       "<table border=\"1\" class=\"dataframe\">\n",
       "  <thead>\n",
       "    <tr style=\"text-align: right;\">\n",
       "      <th></th>\n",
       "      <th>item_id</th>\n",
       "      <th>item_name_in_en_us</th>\n",
       "      <th>main_image_id</th>\n",
       "      <th>image_id</th>\n",
       "      <th>height</th>\n",
       "      <th>width</th>\n",
       "      <th>path</th>\n",
       "      <th>img_full_path</th>\n",
       "    </tr>\n",
       "  </thead>\n",
       "  <tbody>\n",
       "    <tr>\n",
       "      <th>0</th>\n",
       "      <td>B0896LJNLH</td>\n",
       "      <td>AmazonBasics Serene 16-Piece Old Fashioned and...</td>\n",
       "      <td>61izEZdhlaL</td>\n",
       "      <td>61izEZdhlaL</td>\n",
       "      <td>1197</td>\n",
       "      <td>894</td>\n",
       "      <td>07/075e5d67.jpg</td>\n",
       "      <td>s3://amazon-berkeley-objects/images/small/07/0...</td>\n",
       "    </tr>\n",
       "    <tr>\n",
       "      <th>1</th>\n",
       "      <td>B07HCR1LSQ</td>\n",
       "      <td>[Find] Amazon Collection Platinum Plated Sterl...</td>\n",
       "      <td>61kDp2x8tPL</td>\n",
       "      <td>61kDp2x8tPL</td>\n",
       "      <td>1000</td>\n",
       "      <td>1000</td>\n",
       "      <td>c9/c923418f.jpg</td>\n",
       "      <td>s3://amazon-berkeley-objects/images/small/c9/c...</td>\n",
       "    </tr>\n",
       "    <tr>\n",
       "      <th>2</th>\n",
       "      <td>B075DQBBJZ</td>\n",
       "      <td>Arizona Desert Sand Horizon Photo with Wood Ha...</td>\n",
       "      <td>91IjyKZ76qL</td>\n",
       "      <td>91IjyKZ76qL</td>\n",
       "      <td>2560</td>\n",
       "      <td>2560</td>\n",
       "      <td>c6/c6889ed4.jpg</td>\n",
       "      <td>s3://amazon-berkeley-objects/images/small/c6/c...</td>\n",
       "    </tr>\n",
       "    <tr>\n",
       "      <th>3</th>\n",
       "      <td>B07S74D9T7</td>\n",
       "      <td>AmazonBasics Adjustable Speaker Stand - 3.8 to...</td>\n",
       "      <td>71x4c-BafpL</td>\n",
       "      <td>71x4c-BafpL</td>\n",
       "      <td>2560</td>\n",
       "      <td>2560</td>\n",
       "      <td>2b/2b90e918.jpg</td>\n",
       "      <td>s3://amazon-berkeley-objects/images/small/2b/2...</td>\n",
       "    </tr>\n",
       "    <tr>\n",
       "      <th>4</th>\n",
       "      <td>B01N27SMXC</td>\n",
       "      <td>Amazon Brand - The Fix Women's Foley Tassel Sl...</td>\n",
       "      <td>71-eMu0gN+L</td>\n",
       "      <td>71-eMu0gN+L</td>\n",
       "      <td>704</td>\n",
       "      <td>1770</td>\n",
       "      <td>2c/2c0416de.jpg</td>\n",
       "      <td>s3://amazon-berkeley-objects/images/small/2c/2...</td>\n",
       "    </tr>\n",
       "    <tr>\n",
       "      <th>...</th>\n",
       "      <td>...</td>\n",
       "      <td>...</td>\n",
       "      <td>...</td>\n",
       "      <td>...</td>\n",
       "      <td>...</td>\n",
       "      <td>...</td>\n",
       "      <td>...</td>\n",
       "      <td>...</td>\n",
       "    </tr>\n",
       "    <tr>\n",
       "      <th>1644</th>\n",
       "      <td>B07JCDQWM6</td>\n",
       "      <td>Amazon Brand – Rivet Thomas Modern Leather Sof...</td>\n",
       "      <td>71e51Rb1h4L</td>\n",
       "      <td>71e51Rb1h4L</td>\n",
       "      <td>2560</td>\n",
       "      <td>2560</td>\n",
       "      <td>c4/c4c46850.jpg</td>\n",
       "      <td>s3://amazon-berkeley-objects/images/small/c4/c...</td>\n",
       "    </tr>\n",
       "    <tr>\n",
       "      <th>1645</th>\n",
       "      <td>B07B1LZQWL</td>\n",
       "      <td>Salmon Cake with Confetti Grains, 12.17 oz</td>\n",
       "      <td>91qFxcWDtjL</td>\n",
       "      <td>91qFxcWDtjL</td>\n",
       "      <td>1982</td>\n",
       "      <td>2560</td>\n",
       "      <td>01/0111c309.jpg</td>\n",
       "      <td>s3://amazon-berkeley-objects/images/small/01/0...</td>\n",
       "    </tr>\n",
       "    <tr>\n",
       "      <th>1646</th>\n",
       "      <td>B073P17SZZ</td>\n",
       "      <td>Amazon Brand – Rivet Blue Ocean Waves Print Wa...</td>\n",
       "      <td>91NCaDVKPEL</td>\n",
       "      <td>91NCaDVKPEL</td>\n",
       "      <td>1719</td>\n",
       "      <td>2560</td>\n",
       "      <td>85/85d5420a.jpg</td>\n",
       "      <td>s3://amazon-berkeley-objects/images/small/85/8...</td>\n",
       "    </tr>\n",
       "    <tr>\n",
       "      <th>1647</th>\n",
       "      <td>B07JQX8S2X</td>\n",
       "      <td>Amazon Basics Tufted Outdoor Square Seat Patio...</td>\n",
       "      <td>91XM523rZgL</td>\n",
       "      <td>91XM523rZgL</td>\n",
       "      <td>2560</td>\n",
       "      <td>2560</td>\n",
       "      <td>45/45e8e821.jpg</td>\n",
       "      <td>s3://amazon-berkeley-objects/images/small/45/4...</td>\n",
       "    </tr>\n",
       "    <tr>\n",
       "      <th>1648</th>\n",
       "      <td>B074MG76KH</td>\n",
       "      <td>365 Everyday Value, Daily Shower Cleaner, 32 f...</td>\n",
       "      <td>71c2Ny+WfoL</td>\n",
       "      <td>71c2Ny+WfoL</td>\n",
       "      <td>2560</td>\n",
       "      <td>1143</td>\n",
       "      <td>9f/9fefdb9d.jpg</td>\n",
       "      <td>s3://amazon-berkeley-objects/images/small/9f/9...</td>\n",
       "    </tr>\n",
       "  </tbody>\n",
       "</table>\n",
       "<p>1649 rows × 8 columns</p>\n",
       "</div>"
      ],
      "text/plain": [
       "         item_id                                 item_name_in_en_us  \\\n",
       "0     B0896LJNLH  AmazonBasics Serene 16-Piece Old Fashioned and...   \n",
       "1     B07HCR1LSQ  [Find] Amazon Collection Platinum Plated Sterl...   \n",
       "2     B075DQBBJZ  Arizona Desert Sand Horizon Photo with Wood Ha...   \n",
       "3     B07S74D9T7  AmazonBasics Adjustable Speaker Stand - 3.8 to...   \n",
       "4     B01N27SMXC  Amazon Brand - The Fix Women's Foley Tassel Sl...   \n",
       "...          ...                                                ...   \n",
       "1644  B07JCDQWM6  Amazon Brand – Rivet Thomas Modern Leather Sof...   \n",
       "1645  B07B1LZQWL         Salmon Cake with Confetti Grains, 12.17 oz   \n",
       "1646  B073P17SZZ  Amazon Brand – Rivet Blue Ocean Waves Print Wa...   \n",
       "1647  B07JQX8S2X  Amazon Basics Tufted Outdoor Square Seat Patio...   \n",
       "1648  B074MG76KH  365 Everyday Value, Daily Shower Cleaner, 32 f...   \n",
       "\n",
       "     main_image_id     image_id  height  width             path  \\\n",
       "0      61izEZdhlaL  61izEZdhlaL    1197    894  07/075e5d67.jpg   \n",
       "1      61kDp2x8tPL  61kDp2x8tPL    1000   1000  c9/c923418f.jpg   \n",
       "2      91IjyKZ76qL  91IjyKZ76qL    2560   2560  c6/c6889ed4.jpg   \n",
       "3      71x4c-BafpL  71x4c-BafpL    2560   2560  2b/2b90e918.jpg   \n",
       "4      71-eMu0gN+L  71-eMu0gN+L     704   1770  2c/2c0416de.jpg   \n",
       "...            ...          ...     ...    ...              ...   \n",
       "1644   71e51Rb1h4L  71e51Rb1h4L    2560   2560  c4/c4c46850.jpg   \n",
       "1645   91qFxcWDtjL  91qFxcWDtjL    1982   2560  01/0111c309.jpg   \n",
       "1646   91NCaDVKPEL  91NCaDVKPEL    1719   2560  85/85d5420a.jpg   \n",
       "1647   91XM523rZgL  91XM523rZgL    2560   2560  45/45e8e821.jpg   \n",
       "1648   71c2Ny+WfoL  71c2Ny+WfoL    2560   1143  9f/9fefdb9d.jpg   \n",
       "\n",
       "                                          img_full_path  \n",
       "0     s3://amazon-berkeley-objects/images/small/07/0...  \n",
       "1     s3://amazon-berkeley-objects/images/small/c9/c...  \n",
       "2     s3://amazon-berkeley-objects/images/small/c6/c...  \n",
       "3     s3://amazon-berkeley-objects/images/small/2b/2...  \n",
       "4     s3://amazon-berkeley-objects/images/small/2c/2...  \n",
       "...                                                 ...  \n",
       "1644  s3://amazon-berkeley-objects/images/small/c4/c...  \n",
       "1645  s3://amazon-berkeley-objects/images/small/01/0...  \n",
       "1646  s3://amazon-berkeley-objects/images/small/85/8...  \n",
       "1647  s3://amazon-berkeley-objects/images/small/45/4...  \n",
       "1648  s3://amazon-berkeley-objects/images/small/9f/9...  \n",
       "\n",
       "[1649 rows x 8 columns]"
      ]
     },
     "execution_count": 11,
     "metadata": {},
     "output_type": "execute_result"
    }
   ],
   "source": [
    "# Create a new column in dataset with FULL PATH of the image\n",
    "dataset = dataset.assign(img_full_path=f's3://amazon-berkeley-objects/images/small/' + dataset.path.astype(str))\n",
    "dataset"
   ]
  },
  {
   "cell_type": "markdown",
   "id": "ac302f2e-faaa-428a-9b3d-7f240aaff49e",
   "metadata": {},
   "source": [
    "You can have a look at one sample image from the dataset by running the following code"
   ]
  },
  {
   "cell_type": "code",
   "execution_count": 12,
   "id": "b5027897-7281-4144-82ce-583908c5c71e",
   "metadata": {
    "tags": []
   },
   "outputs": [
    {
     "name": "stdout",
     "output_type": "stream",
     "text": [
      "AmazonBasics Serene 16-Piece Old Fashioned and Coolers Glass Drinkware Set\n"
     ]
    },
    {
     "data": {
      "image/jpeg": "[encoded data removed]",
      "image/png": "[encoded data removed]",
      "text/plain": [
       "<PIL.JpegImagePlugin.JpegImageFile image mode=RGB size=191x256>"
      ]
     },
     "execution_count": 12,
     "metadata": {},
     "output_type": "execute_result"
    }
   ],
   "source": [
    "image, item_name = get_image_from_item_id_s3(item_id = \"B0896LJNLH\", dataset = dataset, image_path = f's3://amazon-berkeley-objects/images/small/' )\n",
    "print(item_name)\n",
    "image"
   ]
  },
  {
   "cell_type": "markdown",
   "id": "fcdb6f7e-5f07-4e41-9b38-24cbb8434930",
   "metadata": {
    "tags": []
   },
   "source": [
    "## 3. Generate embedding from item images"
   ]
  },
  {
   "cell_type": "markdown",
   "id": "2167e377-7457-4853-b984-d246bf27eec9",
   "metadata": {},
   "source": [
    "Amazon Titan Multimodal Embeddings G1 Generation 1 (G1) is able to project both images and text into the same latent space, so we only need to encode item images or texts into embedding space. In this practice, you can use [batch inference](https://docs.aws.amazon.com/bedrock/latest/userguide/batch-inference.html) to encode item images. Before creating the job, you need to copy item images from Amazon Berkeley Objects Dataset public S3 bucket to your own S3 Bucket. The operation needs take less than 10 mins.\n",
    "\n",
    "But for this notebook, we'll use real-time API than batch inference. "
   ]
  },
  {
   "cell_type": "code",
   "execution_count": 13,
   "id": "5b1895c5",
   "metadata": {
    "tags": []
   },
   "outputs": [
    {
     "data": {
      "text/html": [
       "<div>\n",
       "<style scoped>\n",
       "    .dataframe tbody tr th:only-of-type {\n",
       "        vertical-align: middle;\n",
       "    }\n",
       "\n",
       "    .dataframe tbody tr th {\n",
       "        vertical-align: top;\n",
       "    }\n",
       "\n",
       "    .dataframe thead th {\n",
       "        text-align: right;\n",
       "    }\n",
       "</style>\n",
       "<table border=\"1\" class=\"dataframe\">\n",
       "  <thead>\n",
       "    <tr style=\"text-align: right;\">\n",
       "      <th></th>\n",
       "      <th>item_id</th>\n",
       "      <th>item_name_in_en_us</th>\n",
       "      <th>main_image_id</th>\n",
       "      <th>image_id</th>\n",
       "      <th>height</th>\n",
       "      <th>width</th>\n",
       "      <th>path</th>\n",
       "      <th>img_full_path</th>\n",
       "    </tr>\n",
       "  </thead>\n",
       "  <tbody>\n",
       "    <tr>\n",
       "      <th>0</th>\n",
       "      <td>B0896LJNLH</td>\n",
       "      <td>AmazonBasics Serene 16-Piece Old Fashioned and...</td>\n",
       "      <td>61izEZdhlaL</td>\n",
       "      <td>61izEZdhlaL</td>\n",
       "      <td>1197</td>\n",
       "      <td>894</td>\n",
       "      <td>07/075e5d67.jpg</td>\n",
       "      <td>s3://amazon-berkeley-objects/images/small/07/0...</td>\n",
       "    </tr>\n",
       "    <tr>\n",
       "      <th>1</th>\n",
       "      <td>B07HCR1LSQ</td>\n",
       "      <td>[Find] Amazon Collection Platinum Plated Sterl...</td>\n",
       "      <td>61kDp2x8tPL</td>\n",
       "      <td>61kDp2x8tPL</td>\n",
       "      <td>1000</td>\n",
       "      <td>1000</td>\n",
       "      <td>c9/c923418f.jpg</td>\n",
       "      <td>s3://amazon-berkeley-objects/images/small/c9/c...</td>\n",
       "    </tr>\n",
       "    <tr>\n",
       "      <th>2</th>\n",
       "      <td>B075DQBBJZ</td>\n",
       "      <td>Arizona Desert Sand Horizon Photo with Wood Ha...</td>\n",
       "      <td>91IjyKZ76qL</td>\n",
       "      <td>91IjyKZ76qL</td>\n",
       "      <td>2560</td>\n",
       "      <td>2560</td>\n",
       "      <td>c6/c6889ed4.jpg</td>\n",
       "      <td>s3://amazon-berkeley-objects/images/small/c6/c...</td>\n",
       "    </tr>\n",
       "    <tr>\n",
       "      <th>3</th>\n",
       "      <td>B07S74D9T7</td>\n",
       "      <td>AmazonBasics Adjustable Speaker Stand - 3.8 to...</td>\n",
       "      <td>71x4c-BafpL</td>\n",
       "      <td>71x4c-BafpL</td>\n",
       "      <td>2560</td>\n",
       "      <td>2560</td>\n",
       "      <td>2b/2b90e918.jpg</td>\n",
       "      <td>s3://amazon-berkeley-objects/images/small/2b/2...</td>\n",
       "    </tr>\n",
       "    <tr>\n",
       "      <th>4</th>\n",
       "      <td>B01N27SMXC</td>\n",
       "      <td>Amazon Brand - The Fix Women's Foley Tassel Sl...</td>\n",
       "      <td>71-eMu0gN+L</td>\n",
       "      <td>71-eMu0gN+L</td>\n",
       "      <td>704</td>\n",
       "      <td>1770</td>\n",
       "      <td>2c/2c0416de.jpg</td>\n",
       "      <td>s3://amazon-berkeley-objects/images/small/2c/2...</td>\n",
       "    </tr>\n",
       "    <tr>\n",
       "      <th>5</th>\n",
       "      <td>B0896KVCJY</td>\n",
       "      <td>AmazonBasics Eastlake Coolers Glass Drinkware ...</td>\n",
       "      <td>610jXVKNJpL</td>\n",
       "      <td>610jXVKNJpL</td>\n",
       "      <td>1630</td>\n",
       "      <td>863</td>\n",
       "      <td>ea/ea0c6da6.jpg</td>\n",
       "      <td>s3://amazon-berkeley-objects/images/small/ea/e...</td>\n",
       "    </tr>\n",
       "    <tr>\n",
       "      <th>6</th>\n",
       "      <td>B07QC4DZ2L</td>\n",
       "      <td>365 EVERYDAY VALUE Organic Light Cream, 1 PT</td>\n",
       "      <td>81oNfRT6ebL</td>\n",
       "      <td>81oNfRT6ebL</td>\n",
       "      <td>2560</td>\n",
       "      <td>1431</td>\n",
       "      <td>e7/e7983ec5.jpg</td>\n",
       "      <td>s3://amazon-berkeley-objects/images/small/e7/e...</td>\n",
       "    </tr>\n",
       "    <tr>\n",
       "      <th>7</th>\n",
       "      <td>B07FW2NYGJ</td>\n",
       "      <td>365 EVERYDAY VALUE Chai Spice Cashews, 10 OZ</td>\n",
       "      <td>91T4zCd6GhL</td>\n",
       "      <td>91T4zCd6GhL</td>\n",
       "      <td>2560</td>\n",
       "      <td>2102</td>\n",
       "      <td>dc/dcf40fb6.jpg</td>\n",
       "      <td>s3://amazon-berkeley-objects/images/small/dc/d...</td>\n",
       "    </tr>\n",
       "    <tr>\n",
       "      <th>8</th>\n",
       "      <td>B083V9N454</td>\n",
       "      <td>Belei Blemish Control Spot Treatment, 5.5% Ben...</td>\n",
       "      <td>51fDZFHuHjL</td>\n",
       "      <td>51fDZFHuHjL</td>\n",
       "      <td>1001</td>\n",
       "      <td>1001</td>\n",
       "      <td>72/729ff131.jpg</td>\n",
       "      <td>s3://amazon-berkeley-objects/images/small/72/7...</td>\n",
       "    </tr>\n",
       "    <tr>\n",
       "      <th>9</th>\n",
       "      <td>B07N6V9Z41</td>\n",
       "      <td>AmazonBasics Non-Slip Bathroom Bath Rug Mat wi...</td>\n",
       "      <td>810iH82SMKL</td>\n",
       "      <td>810iH82SMKL</td>\n",
       "      <td>2560</td>\n",
       "      <td>2560</td>\n",
       "      <td>f0/f0f82cfb.jpg</td>\n",
       "      <td>s3://amazon-berkeley-objects/images/small/f0/f...</td>\n",
       "    </tr>\n",
       "  </tbody>\n",
       "</table>\n",
       "</div>"
      ],
      "text/plain": [
       "      item_id                                 item_name_in_en_us  \\\n",
       "0  B0896LJNLH  AmazonBasics Serene 16-Piece Old Fashioned and...   \n",
       "1  B07HCR1LSQ  [Find] Amazon Collection Platinum Plated Sterl...   \n",
       "2  B075DQBBJZ  Arizona Desert Sand Horizon Photo with Wood Ha...   \n",
       "3  B07S74D9T7  AmazonBasics Adjustable Speaker Stand - 3.8 to...   \n",
       "4  B01N27SMXC  Amazon Brand - The Fix Women's Foley Tassel Sl...   \n",
       "5  B0896KVCJY  AmazonBasics Eastlake Coolers Glass Drinkware ...   \n",
       "6  B07QC4DZ2L       365 EVERYDAY VALUE Organic Light Cream, 1 PT   \n",
       "7  B07FW2NYGJ       365 EVERYDAY VALUE Chai Spice Cashews, 10 OZ   \n",
       "8  B083V9N454  Belei Blemish Control Spot Treatment, 5.5% Ben...   \n",
       "9  B07N6V9Z41  AmazonBasics Non-Slip Bathroom Bath Rug Mat wi...   \n",
       "\n",
       "  main_image_id     image_id  height  width             path  \\\n",
       "0   61izEZdhlaL  61izEZdhlaL    1197    894  07/075e5d67.jpg   \n",
       "1   61kDp2x8tPL  61kDp2x8tPL    1000   1000  c9/c923418f.jpg   \n",
       "2   91IjyKZ76qL  91IjyKZ76qL    2560   2560  c6/c6889ed4.jpg   \n",
       "3   71x4c-BafpL  71x4c-BafpL    2560   2560  2b/2b90e918.jpg   \n",
       "4   71-eMu0gN+L  71-eMu0gN+L     704   1770  2c/2c0416de.jpg   \n",
       "5   610jXVKNJpL  610jXVKNJpL    1630    863  ea/ea0c6da6.jpg   \n",
       "6   81oNfRT6ebL  81oNfRT6ebL    2560   1431  e7/e7983ec5.jpg   \n",
       "7   91T4zCd6GhL  91T4zCd6GhL    2560   2102  dc/dcf40fb6.jpg   \n",
       "8   51fDZFHuHjL  51fDZFHuHjL    1001   1001  72/729ff131.jpg   \n",
       "9   810iH82SMKL  810iH82SMKL    2560   2560  f0/f0f82cfb.jpg   \n",
       "\n",
       "                                       img_full_path  \n",
       "0  s3://amazon-berkeley-objects/images/small/07/0...  \n",
       "1  s3://amazon-berkeley-objects/images/small/c9/c...  \n",
       "2  s3://amazon-berkeley-objects/images/small/c6/c...  \n",
       "3  s3://amazon-berkeley-objects/images/small/2b/2...  \n",
       "4  s3://amazon-berkeley-objects/images/small/2c/2...  \n",
       "5  s3://amazon-berkeley-objects/images/small/ea/e...  \n",
       "6  s3://amazon-berkeley-objects/images/small/e7/e...  \n",
       "7  s3://amazon-berkeley-objects/images/small/dc/d...  \n",
       "8  s3://amazon-berkeley-objects/images/small/72/7...  \n",
       "9  s3://amazon-berkeley-objects/images/small/f0/f...  "
      ]
     },
     "execution_count": 13,
     "metadata": {},
     "output_type": "execute_result"
    }
   ],
   "source": [
    "\n",
    "batch_size=10\n",
    "dataset = dataset.iloc[:batch_size]\n",
    "dataset"
   ]
  },
  {
   "cell_type": "code",
   "execution_count": 14,
   "id": "af6c068b",
   "metadata": {
    "tags": []
   },
   "outputs": [
    {
     "name": "stdout",
     "output_type": "stream",
     "text": [
      "0 ('s3://amazon-berkeley-objects/images/small/07/075e5d67.jpg', 'AmazonBasics Serene 16-Piece Old Fashioned and Coolers Glass Drinkware Set')\n",
      "1 ('s3://amazon-berkeley-objects/images/small/c9/c923418f.jpg', '[Find] Amazon Collection Platinum Plated Sterling Silver Clear Princess kattokyu-bikkuzirukoniasutaddopiasu Binaural Headset for Stud Earrings jee00087\\xa0_ 120cl00qd00\\xa0')\n",
      "2 ('s3://amazon-berkeley-objects/images/small/c6/c6889ed4.jpg', 'Arizona Desert Sand Horizon Photo with Wood Hanger')\n",
      "3 ('s3://amazon-berkeley-objects/images/small/2b/2b90e918.jpg', 'AmazonBasics Adjustable Speaker Stand - 3.8 to 6-Foot, Steel')\n",
      "4 ('s3://amazon-berkeley-objects/images/small/2c/2c0416de.jpg', \"Amazon Brand - The Fix Women's Foley Tassel Slide Sandal, Taupe, 6.5 B US\")\n",
      "5 ('s3://amazon-berkeley-objects/images/small/ea/ea0c6da6.jpg', 'AmazonBasics Eastlake Coolers Glass Drinkware Set, 15-Ounce, Set of 6')\n",
      "6 ('s3://amazon-berkeley-objects/images/small/e7/e7983ec5.jpg', '365 EVERYDAY VALUE Organic Light Cream, 1 PT')\n",
      "7 ('s3://amazon-berkeley-objects/images/small/dc/dcf40fb6.jpg', '365 EVERYDAY VALUE Chai Spice Cashews, 10 OZ')\n",
      "8 ('s3://amazon-berkeley-objects/images/small/72/729ff131.jpg', 'Belei Blemish Control Spot Treatment, 5.5% Benzoyl Peroxide Acne Treatment, Dermatologist Tested, 1.7 Ounces (50 mL) & Charcoal Balancing Mask, Fragrance Free, Paraben Free, 5 Ounce (150 g)')\n",
      "9 ('s3://amazon-berkeley-objects/images/small/f0/f0f82cfb.jpg', 'AmazonBasics Non-Slip Bathroom Bath Rug Mat with Textured Waves')\n"
     ]
    }
   ],
   "source": [
    "# for i in enumerate(zip(dataset['img_full_path'], dataset['item_name_in_en_us'])):\n",
    "#     print(i[0], i[1])\n",
    "for img_details in enumerate(zip(dataset['img_full_path'], dataset['item_name_in_en_us'])):\n",
    "    print(img_details[0], img_details[1])"
   ]
  },
  {
   "cell_type": "code",
   "execution_count": 15,
   "id": "397f7307-a892-4ed9-9856-2de4772d8ea9",
   "metadata": {
    "tags": []
   },
   "outputs": [
    {
     "name": "stdout",
     "output_type": "stream",
     "text": [
      " get_titan_multimodal_embedding_fix()::payload:keys=dict_keys(['inputImage', 'inputText'])::\n",
      "(1024,)\n",
      " get_titan_multimodal_embedding_fix()::payload:keys=dict_keys(['inputImage', 'inputText'])::\n",
      "(1024,)\n",
      " get_titan_multimodal_embedding_fix()::payload:keys=dict_keys(['inputImage', 'inputText'])::\n",
      "(1024,)\n",
      " get_titan_multimodal_embedding_fix()::payload:keys=dict_keys(['inputImage', 'inputText'])::\n",
      "(1024,)\n",
      " get_titan_multimodal_embedding_fix()::payload:keys=dict_keys(['inputImage', 'inputText'])::\n",
      "(1024,)\n",
      " get_titan_multimodal_embedding_fix()::payload:keys=dict_keys(['inputImage', 'inputText'])::\n",
      "(1024,)\n",
      " get_titan_multimodal_embedding_fix()::payload:keys=dict_keys(['inputImage', 'inputText'])::\n",
      "(1024,)\n",
      " get_titan_multimodal_embedding_fix()::payload:keys=dict_keys(['inputImage', 'inputText'])::\n",
      "(1024,)\n",
      " get_titan_multimodal_embedding_fix()::payload:keys=dict_keys(['inputImage', 'inputText'])::\n",
      "(1024,)\n",
      " get_titan_multimodal_embedding_fix()::payload:keys=dict_keys(['inputImage', 'inputText'])::\n",
      "(1024,)\n",
      "CPU times: user 500 ms, sys: 17.7 ms, total: 517 ms\n",
      "Wall time: 5.42 s\n"
     ]
    }
   ],
   "source": [
    "%%time\n",
    "\n",
    "\n",
    "def get_titan_multimodal_embedding_fix(\n",
    "    image_path:str=None,  # maximum 2048 x 2048 pixels\n",
    "    description:str=None, # English only and max input tokens 128\n",
    "    dimension:int=1024,   # 1,024 (default), 384, 256\n",
    "    model_id:str=multimodal_embed_model\n",
    "):\n",
    "    # print(image_path)\n",
    "    # print(description)\n",
    "    payload_body = {}\n",
    "    embedding_config = {\n",
    "        \"embeddingConfig\": { \n",
    "             \"outputEmbeddingLength\": dimension\n",
    "         }\n",
    "    }\n",
    "    # You can specify either text or image or both\n",
    "    if image_path:\n",
    "        if image_path.startswith('s3'):\n",
    "            s3 = boto3.client('s3')\n",
    "            bucket_name, key = image_path.replace(\"s3://\", \"\").split(\"/\", 1)\n",
    "            obj = s3.get_object(Bucket=bucket_name, Key=key)\n",
    "            # Read the object's body\n",
    "            body = obj['Body'].read()\n",
    "            # Encode the body in base64\n",
    "            base64_image = base64.b64encode(body).decode('utf-8')\n",
    "            payload_body[\"inputImage\"] = base64_image\n",
    "        else:   \n",
    "            with open(image_path, \"rb\") as image_file:\n",
    "                input_image = base64.b64encode(image_file.read()).decode('utf8')\n",
    "            payload_body[\"inputImage\"] = input_image\n",
    "    if description:\n",
    "        payload_body[\"inputText\"] = description\n",
    "\n",
    "    # print(payload_body)\n",
    "    # print(json.dumps({**payload_body, **embedding_config}))\n",
    "    print(f\" get_titan_multimodal_embedding_fix()::payload:keys={payload_body.keys()}::\")\n",
    "    response = boto3_bedrock.invoke_model(\n",
    "        body=json.dumps({**payload_body, **embedding_config}), \n",
    "        modelId=model_id,\n",
    "        accept=\"application/json\", \n",
    "        contentType=\"application/json\"\n",
    "    )\n",
    "\n",
    "    return json.loads(response.get(\"body\").read())\n",
    "\n",
    "\n",
    "multimodal_embeddings_img = []\n",
    "for img_details in enumerate(zip(dataset['img_full_path'], dataset['item_name_in_en_us'])):\n",
    "    #print(img_details[1])\n",
    "    embedding = get_titan_multimodal_embedding_fix(description=img_details[1][1], image_path=img_details[1][0], dimension=1024)[\"embedding\"]\n",
    "    print(np.array(embedding).shape)\n",
    "    multimodal_embeddings_img.append(embedding)\n",
    "\n",
    "\n",
    "dataset = dataset.assign(embedding_img=multimodal_embeddings_img)"
   ]
  },
  {
   "cell_type": "code",
   "execution_count": 16,
   "id": "a3e8f78b-5ccc-41c1-859a-eb26f83333d4",
   "metadata": {
    "tags": []
   },
   "outputs": [
    {
     "data": {
      "text/html": [
       "<div>\n",
       "<style scoped>\n",
       "    .dataframe tbody tr th:only-of-type {\n",
       "        vertical-align: middle;\n",
       "    }\n",
       "\n",
       "    .dataframe tbody tr th {\n",
       "        vertical-align: top;\n",
       "    }\n",
       "\n",
       "    .dataframe thead th {\n",
       "        text-align: right;\n",
       "    }\n",
       "</style>\n",
       "<table border=\"1\" class=\"dataframe\">\n",
       "  <thead>\n",
       "    <tr style=\"text-align: right;\">\n",
       "      <th></th>\n",
       "      <th>item_id</th>\n",
       "      <th>item_name_in_en_us</th>\n",
       "      <th>main_image_id</th>\n",
       "      <th>image_id</th>\n",
       "      <th>height</th>\n",
       "      <th>width</th>\n",
       "      <th>path</th>\n",
       "      <th>img_full_path</th>\n",
       "      <th>embedding_img</th>\n",
       "    </tr>\n",
       "  </thead>\n",
       "  <tbody>\n",
       "    <tr>\n",
       "      <th>0</th>\n",
       "      <td>B0896LJNLH</td>\n",
       "      <td>AmazonBasics Serene 16-Piece Old Fashioned and...</td>\n",
       "      <td>61izEZdhlaL</td>\n",
       "      <td>61izEZdhlaL</td>\n",
       "      <td>1197</td>\n",
       "      <td>894</td>\n",
       "      <td>07/075e5d67.jpg</td>\n",
       "      <td>s3://amazon-berkeley-objects/images/small/07/0...</td>\n",
       "      <td>[-0.001960706, 0.021589834, -0.021258384, -0.0...</td>\n",
       "    </tr>\n",
       "    <tr>\n",
       "      <th>1</th>\n",
       "      <td>B07HCR1LSQ</td>\n",
       "      <td>[Find] Amazon Collection Platinum Plated Sterl...</td>\n",
       "      <td>61kDp2x8tPL</td>\n",
       "      <td>61kDp2x8tPL</td>\n",
       "      <td>1000</td>\n",
       "      <td>1000</td>\n",
       "      <td>c9/c923418f.jpg</td>\n",
       "      <td>s3://amazon-berkeley-objects/images/small/c9/c...</td>\n",
       "      <td>[0.028349906, 0.012696784, -0.016892023, -0.01...</td>\n",
       "    </tr>\n",
       "    <tr>\n",
       "      <th>2</th>\n",
       "      <td>B075DQBBJZ</td>\n",
       "      <td>Arizona Desert Sand Horizon Photo with Wood Ha...</td>\n",
       "      <td>91IjyKZ76qL</td>\n",
       "      <td>91IjyKZ76qL</td>\n",
       "      <td>2560</td>\n",
       "      <td>2560</td>\n",
       "      <td>c6/c6889ed4.jpg</td>\n",
       "      <td>s3://amazon-berkeley-objects/images/small/c6/c...</td>\n",
       "      <td>[0.03770037, 0.011045429, -0.008845568, -0.002...</td>\n",
       "    </tr>\n",
       "    <tr>\n",
       "      <th>3</th>\n",
       "      <td>B07S74D9T7</td>\n",
       "      <td>AmazonBasics Adjustable Speaker Stand - 3.8 to...</td>\n",
       "      <td>71x4c-BafpL</td>\n",
       "      <td>71x4c-BafpL</td>\n",
       "      <td>2560</td>\n",
       "      <td>2560</td>\n",
       "      <td>2b/2b90e918.jpg</td>\n",
       "      <td>s3://amazon-berkeley-objects/images/small/2b/2...</td>\n",
       "      <td>[-0.021285068, 0.026967337, -0.034015138, -0.0...</td>\n",
       "    </tr>\n",
       "    <tr>\n",
       "      <th>4</th>\n",
       "      <td>B01N27SMXC</td>\n",
       "      <td>Amazon Brand - The Fix Women's Foley Tassel Sl...</td>\n",
       "      <td>71-eMu0gN+L</td>\n",
       "      <td>71-eMu0gN+L</td>\n",
       "      <td>704</td>\n",
       "      <td>1770</td>\n",
       "      <td>2c/2c0416de.jpg</td>\n",
       "      <td>s3://amazon-berkeley-objects/images/small/2c/2...</td>\n",
       "      <td>[-0.011191306, 0.005060074, -0.010980505, -0.0...</td>\n",
       "    </tr>\n",
       "  </tbody>\n",
       "</table>\n",
       "</div>"
      ],
      "text/plain": [
       "      item_id                                 item_name_in_en_us  \\\n",
       "0  B0896LJNLH  AmazonBasics Serene 16-Piece Old Fashioned and...   \n",
       "1  B07HCR1LSQ  [Find] Amazon Collection Platinum Plated Sterl...   \n",
       "2  B075DQBBJZ  Arizona Desert Sand Horizon Photo with Wood Ha...   \n",
       "3  B07S74D9T7  AmazonBasics Adjustable Speaker Stand - 3.8 to...   \n",
       "4  B01N27SMXC  Amazon Brand - The Fix Women's Foley Tassel Sl...   \n",
       "\n",
       "  main_image_id     image_id  height  width             path  \\\n",
       "0   61izEZdhlaL  61izEZdhlaL    1197    894  07/075e5d67.jpg   \n",
       "1   61kDp2x8tPL  61kDp2x8tPL    1000   1000  c9/c923418f.jpg   \n",
       "2   91IjyKZ76qL  91IjyKZ76qL    2560   2560  c6/c6889ed4.jpg   \n",
       "3   71x4c-BafpL  71x4c-BafpL    2560   2560  2b/2b90e918.jpg   \n",
       "4   71-eMu0gN+L  71-eMu0gN+L     704   1770  2c/2c0416de.jpg   \n",
       "\n",
       "                                       img_full_path  \\\n",
       "0  s3://amazon-berkeley-objects/images/small/07/0...   \n",
       "1  s3://amazon-berkeley-objects/images/small/c9/c...   \n",
       "2  s3://amazon-berkeley-objects/images/small/c6/c...   \n",
       "3  s3://amazon-berkeley-objects/images/small/2b/2...   \n",
       "4  s3://amazon-berkeley-objects/images/small/2c/2...   \n",
       "\n",
       "                                       embedding_img  \n",
       "0  [-0.001960706, 0.021589834, -0.021258384, -0.0...  \n",
       "1  [0.028349906, 0.012696784, -0.016892023, -0.01...  \n",
       "2  [0.03770037, 0.011045429, -0.008845568, -0.002...  \n",
       "3  [-0.021285068, 0.026967337, -0.034015138, -0.0...  \n",
       "4  [-0.011191306, 0.005060074, -0.010980505, -0.0...  "
      ]
     },
     "execution_count": 16,
     "metadata": {},
     "output_type": "execute_result"
    }
   ],
   "source": [
    "dataset.head()"
   ]
  },
  {
   "cell_type": "code",
   "execution_count": 17,
   "id": "5325716f",
   "metadata": {
    "tags": []
   },
   "outputs": [
    {
     "data": {
      "text/plain": [
       "['AmazonBasics Serene 16-Piece Old Fashioned and Coolers Glass Drinkware Set',\n",
       " '[Find] Amazon Collection Platinum Plated Sterling Silver Clear Princess kattokyu-bikkuzirukoniasutaddopiasu Binaural Headset for Stud Earrings jee00087\\xa0_ 120cl00qd00\\xa0',\n",
       " 'Arizona Desert Sand Horizon Photo with Wood Hanger',\n",
       " 'AmazonBasics Adjustable Speaker Stand - 3.8 to 6-Foot, Steel',\n",
       " \"Amazon Brand - The Fix Women's Foley Tassel Slide Sandal, Taupe, 6.5 B US\",\n",
       " 'AmazonBasics Eastlake Coolers Glass Drinkware Set, 15-Ounce, Set of 6',\n",
       " '365 EVERYDAY VALUE Organic Light Cream, 1 PT',\n",
       " '365 EVERYDAY VALUE Chai Spice Cashews, 10 OZ',\n",
       " 'Belei Blemish Control Spot Treatment, 5.5% Benzoyl Peroxide Acne Treatment, Dermatologist Tested, 1.7 Ounces (50 mL) & Charcoal Balancing Mask, Fragrance Free, Paraben Free, 5 Ounce (150 g)',\n",
       " 'AmazonBasics Non-Slip Bathroom Bath Rug Mat with Textured Waves']"
      ]
     },
     "execution_count": 17,
     "metadata": {},
     "output_type": "execute_result"
    }
   ],
   "source": [
    "dataset['item_name_in_en_us'].to_list()"
   ]
  },
  {
   "cell_type": "markdown",
   "id": "56a17342-73c6-41db-af69-942de7e56ea9",
   "metadata": {
    "tags": []
   },
   "source": [
    "### 3.1 Visualize the Image Embedding\n",
    "Let's visualize the embedding "
   ]
  },
  {
   "cell_type": "code",
   "execution_count": 18,
   "id": "51c88d49-bda6-4aa4-95e0-e525b9b87cd5",
   "metadata": {
    "tags": []
   },
   "outputs": [
    {
     "data": {
      "image/png": "[encoded data removed]",
      "text/plain": [
       "<Figure size 640x480 with 2 Axes>"
      ]
     },
     "metadata": {},
     "output_type": "display_data"
    }
   ],
   "source": [
    "plot_similarity_heatmap(multimodal_embeddings_img[:batch_size], multimodal_embeddings_img[:batch_size])"
   ]
  },
  {
   "cell_type": "markdown",
   "id": "90a24806-a881-44a1-a9f2-b7b709c9fb8f",
   "metadata": {
    "tags": []
   },
   "source": [
    "### 3.2 [OPTIONAL] Store datset"
   ]
  },
  {
   "cell_type": "code",
   "execution_count": 19,
   "id": "efa12b38-b1e5-47cc-85ee-905065f890de",
   "metadata": {
    "tags": []
   },
   "outputs": [],
   "source": [
    "# Store dataset\n",
    "dataset.to_csv('dataset.csv', index = False)"
   ]
  },
  {
   "cell_type": "markdown",
   "id": "beac9ea1-a633-4e49-a49e-5a175d28db6b",
   "metadata": {},
   "source": [
    "## 4. Create a vector store - FAISS In memory vector store"
   ]
  },
  {
   "cell_type": "markdown",
   "id": "eaa21dc0-24b3-4ef2-be0f-40ad779fdc44",
   "metadata": {},
   "source": [
    "Before creating the new vector search collection and index, we must first create three associated OpenSearch policies: encryption security policy, network security policy, and data access policy. "
   ]
  },
  {
   "cell_type": "markdown",
   "id": "b7f4c99a-78d4-49a3-8673-f567d9b7663d",
   "metadata": {},
   "source": [
    "### 4.1 Create a new FAISS vector Database\n",
    "\n",
    "we will use the metat data to store the image location so we can read the image back from the vector db"
   ]
  },
  {
   "cell_type": "code",
   "execution_count": 20,
   "id": "d9de6a17",
   "metadata": {
    "tags": []
   },
   "outputs": [],
   "source": [
    "from langchain.document_loaders import CSVLoader\n",
    "from langchain.text_splitter import CharacterTextSplitter\n",
    "from langchain.vectorstores import FAISS\n",
    "from langchain.schema import Document\n",
    "\n"
   ]
  },
  {
   "cell_type": "markdown",
   "id": "26978df0-0758-48f8-8a35-c2f7b453b7c0",
   "metadata": {},
   "source": [
    "### 4.2 Setting up the In-Memory KNN search"
   ]
  },
  {
   "cell_type": "code",
   "execution_count": 21,
   "id": "eac9f261",
   "metadata": {
    "tags": []
   },
   "outputs": [
    {
     "data": {
      "text/plain": [
       "[{'AmazonBasics Serene 16-Piece Old Fashioned and Coolers Glass Drinkware Set': 's3://amazon-berkeley-objects/images/small/07/075e5d67.jpg'},\n",
       " {'[Find] Amazon Collection Platinum Plated Sterling Silver Clear Princess kattokyu-bikkuzirukoniasutaddopiasu Binaural Headset for Stud Earrings jee00087\\xa0_ 120cl00qd00\\xa0': 's3://amazon-berkeley-objects/images/small/c9/c923418f.jpg'},\n",
       " {'Arizona Desert Sand Horizon Photo with Wood Hanger': 's3://amazon-berkeley-objects/images/small/c6/c6889ed4.jpg'},\n",
       " {'AmazonBasics Adjustable Speaker Stand - 3.8 to 6-Foot, Steel': 's3://amazon-berkeley-objects/images/small/2b/2b90e918.jpg'},\n",
       " {\"Amazon Brand - The Fix Women's Foley Tassel Slide Sandal, Taupe, 6.5 B US\": 's3://amazon-berkeley-objects/images/small/2c/2c0416de.jpg'},\n",
       " {'AmazonBasics Eastlake Coolers Glass Drinkware Set, 15-Ounce, Set of 6': 's3://amazon-berkeley-objects/images/small/ea/ea0c6da6.jpg'},\n",
       " {'365 EVERYDAY VALUE Organic Light Cream, 1 PT': 's3://amazon-berkeley-objects/images/small/e7/e7983ec5.jpg'},\n",
       " {'365 EVERYDAY VALUE Chai Spice Cashews, 10 OZ': 's3://amazon-berkeley-objects/images/small/dc/dcf40fb6.jpg'},\n",
       " {'Belei Blemish Control Spot Treatment, 5.5% Benzoyl Peroxide Acne Treatment, Dermatologist Tested, 1.7 Ounces (50 mL) & Charcoal Balancing Mask, Fragrance Free, Paraben Free, 5 Ounce (150 g)': 's3://amazon-berkeley-objects/images/small/72/729ff131.jpg'},\n",
       " {'AmazonBasics Non-Slip Bathroom Bath Rug Mat with Textured Waves': 's3://amazon-berkeley-objects/images/small/f0/f0f82cfb.jpg'}]"
      ]
     },
     "execution_count": 21,
     "metadata": {},
     "output_type": "execute_result"
    }
   ],
   "source": [
    "metadata_dict =  [ {key:value} for i, (key, value) in enumerate(zip(dataset['item_name_in_en_us'].to_list(), dataset['img_full_path'].to_list()))] \n",
    "\n",
    "metadata_dict#['AmazonBasics Serene 16-Piece Old Fashioned and Coolers Glass Drinkware Set']"
   ]
  },
  {
   "cell_type": "markdown",
   "id": "e534e699-88d8-42a7-a6d6-5b228a04c9bf",
   "metadata": {},
   "source": [
    "### 4.3 Ingest the image embeddings"
   ]
  },
  {
   "cell_type": "markdown",
   "id": "d16d969f-4a2a-4f6a-b53b-fc4c7f7a059c",
   "metadata": {},
   "source": [
    "Next you need to loop through your dataset and ingest items data into the cluster. A more robust and scalable solution for the embedding ingestion can be found in [Ingesting enriched data into Amazon ES](https://aws.amazon.com/blogs/industries/novartis-ag-uses-amazon-elasticsearch-k-nearest-neighbor-knn-and-amazon-sagemaker-to-power-search-and-recommendation/). The data ingestion for this POC should finish within 60 seconds. It also executes a simple query to verify the data have been ingested into the index."
   ]
  },
  {
   "cell_type": "code",
   "execution_count": 22,
   "id": "3777b7e3-cb90-4dcd-8160-fec305464be5",
   "metadata": {
    "tags": []
   },
   "outputs": [],
   "source": [
    "#collection = aoss_client.create_collection(name=vector_store_name,type='VECTORSEARCH')\n",
    "# create vector store\n",
    "from langchain.document_loaders import CSVLoader\n",
    "from langchain.text_splitter import CharacterTextSplitter\n",
    "from langchain.vectorstores import FAISS\n",
    "from langchain.schema import Document\n",
    "\n",
    "from langchain.embeddings import BedrockEmbeddings\n",
    "from langchain.vectorstores import FAISS\n",
    "\n",
    "multimodal_embed_model = f'amazon.titan-embed-image-v1'\n",
    "# create instantiation to embedding model\n",
    "embedding_model = BedrockEmbeddings(\n",
    "    client=boto3_bedrock,\n",
    "    model_id=multimodal_embed_model\n",
    ")\n",
    "\n",
    "text_embedding_pairs = zip(dataset['item_name_in_en_us'].to_list(), multimodal_embeddings_img)\n",
    "#metadata_dict =  dict ( [(key, value) for i, (key, value) in enumerate(zip(dataset['item_name_in_en_us'].to_list(), dataset['img_full_path'].to_list()))] )\n",
    "\n",
    "\n",
    "db = FAISS.from_embeddings(text_embedding_pairs, embedding_model, metadatas=metadata_dict)"
   ]
  },
  {
   "cell_type": "code",
   "execution_count": 23,
   "id": "85908804",
   "metadata": {
    "tags": []
   },
   "outputs": [
    {
     "name": "stdout",
     "output_type": "stream",
     "text": [
      "[0.0055963546, -0.011778994, -0.027182294, 0.0016322702, -0.014070835, 0.023984378, 0.12109446, -0.022172224, -0.0056763026, -0.034111116]\n"
     ]
    },
    {
     "data": {
      "text/markdown": [
       "Let us look at the documents which had the relevant information pertaining to our query"
      ],
      "text/plain": [
       "<IPython.core.display.Markdown object>"
      ]
     },
     "metadata": {},
     "output_type": "display_data"
    },
    {
     "data": {
      "text/markdown": [
       "AmazonBasics Eastlake Coolers Glass Drinkware Set, 15-Ounce, Set of 6"
      ],
      "text/plain": [
       "<IPython.core.display.Markdown object>"
      ]
     },
     "metadata": {},
     "output_type": "display_data"
    },
    {
     "data": {
      "text/markdown": [
       "{'AmazonBasics Eastlake Coolers Glass Drinkware Set, 15-Ounce, Set of 6': 's3://amazon-berkeley-objects/images/small/ea/ea0c6da6.jpg'}"
      ],
      "text/plain": [
       "<IPython.core.display.Markdown object>"
      ]
     },
     "metadata": {},
     "output_type": "display_data"
    },
    {
     "data": {
      "text/markdown": [
       "------------------------------------"
      ],
      "text/plain": [
       "<IPython.core.display.Markdown object>"
      ]
     },
     "metadata": {},
     "output_type": "display_data"
    },
    {
     "data": {
      "text/markdown": [
       "AmazonBasics Serene 16-Piece Old Fashioned and Coolers Glass Drinkware Set"
      ],
      "text/plain": [
       "<IPython.core.display.Markdown object>"
      ]
     },
     "metadata": {},
     "output_type": "display_data"
    },
    {
     "data": {
      "text/markdown": [
       "{'AmazonBasics Serene 16-Piece Old Fashioned and Coolers Glass Drinkware Set': 's3://amazon-berkeley-objects/images/small/07/075e5d67.jpg'}"
      ],
      "text/plain": [
       "<IPython.core.display.Markdown object>"
      ]
     },
     "metadata": {},
     "output_type": "display_data"
    },
    {
     "data": {
      "text/markdown": [
       "------------------------------------"
      ],
      "text/plain": [
       "<IPython.core.display.Markdown object>"
      ]
     },
     "metadata": {},
     "output_type": "display_data"
    }
   ],
   "source": [
    "query_prompt = \"drinkware glass\"\n",
    "\n",
    "v = embedding_model.embed_query(query_prompt)\n",
    "print(v[0:10])\n",
    "results = db.similarity_search_by_vector(v, k=2)\n",
    "display(Markdown('Let us look at the documents which had the relevant information pertaining to our query'))\n",
    "for r in results:\n",
    "    display(Markdown(f'{r.page_content}'), Markdown(f'{r.metadata}'))\n",
    "    display(Markdown(f'------------------------------------'))"
   ]
  },
  {
   "cell_type": "code",
   "execution_count": 24,
   "id": "a9667fd8",
   "metadata": {
    "tags": []
   },
   "outputs": [
    {
     "name": "stdout",
     "output_type": "stream",
     "text": [
      "dict_values(['s3://amazon-berkeley-objects/images/small/ea/ea0c6da6.jpg'])\n",
      "dict_keys(['AmazonBasics Eastlake Coolers Glass Drinkware Set, 15-Ounce, Set of 6'])\n"
     ]
    }
   ],
   "source": [
    "print(results[0].metadata.values())\n",
    "print(results[0].metadata.keys())"
   ]
  },
  {
   "cell_type": "markdown",
   "id": "10c52b22-2d08-43fb-88e2-fd39f4ff0b1b",
   "metadata": {},
   "source": [
    "## 5. Perform a real-time Multimodal Search"
   ]
  },
  {
   "cell_type": "markdown",
   "id": "d88e3020-0228-4c3b-b910-73451ba9ea04",
   "metadata": {},
   "source": [
    "Now that you have a working OpenSearch index to contain embeddings for your inventory, let's have a look at how you can generate embedding for new items. You'll use Amazon Titan Multimodal Embeddings G1 Generation 1 (G1) extracting text features and image features. \n",
    "\n",
    "Let’s take a look at the results of a simple query. After retrieving results from the OpenSearch service, we get the item names and images from dataset."
   ]
  },
  {
   "cell_type": "code",
   "execution_count": 25,
   "id": "bcfa367c",
   "metadata": {
    "tags": []
   },
   "outputs": [],
   "source": [
    "def get_image_from_faiss_results(results=None):\n",
    "    image_list = []\n",
    "    for img_path in iter(results[0].metadata.values()):\n",
    "        print(img_path)\n",
    "\n",
    "        if img_path.startswith('s3'):\n",
    "            # download and store images locally \n",
    "            local_data_root = f'./data/images'\n",
    "            local_file_name = img_path.split('/')[-1]\n",
    " \n",
    "            s3down.download(img_path, local_data_root)\n",
    " \n",
    "            local_image_path = f\"{local_data_root}/{local_file_name}\"\n",
    "    \n",
    "        img = Image.open(local_image_path)\n",
    "        image_list.append(img)\n",
    "\n",
    "    return image_list"
   ]
  },
  {
   "cell_type": "markdown",
   "id": "d097223a-3374-43bd-8dee-7fe9886883bc",
   "metadata": {},
   "source": [
    "### 5.1. Perform Image Search based on Text Input"
   ]
  },
  {
   "cell_type": "markdown",
   "id": "55530289-7577-4384-a671-812aac736e81",
   "metadata": {},
   "source": [
    "Let’s take a look at the results of a simple query. In below example, we'll receive an text input i.e. \"drinkware glass\" from user, and then will send it to search engine to find the similar items."
   ]
  },
  {
   "cell_type": "markdown",
   "id": "d8eb2e17-4549-46af-b4b9-9f77456693cf",
   "metadata": {},
   "source": [
    "Find the similar items based on use queries. You can see that we found glass drinkware from our dataset based on the input query. That's what we want to achieve."
   ]
  },
  {
   "cell_type": "code",
   "execution_count": 26,
   "id": "7da3c5f5",
   "metadata": {
    "tags": []
   },
   "outputs": [
    {
     "name": "stdout",
     "output_type": "stream",
     "text": [
      "s3://amazon-berkeley-objects/images/small/ea/ea0c6da6.jpg\n"
     ]
    },
    {
     "data": {
      "image/png": "[encoded data removed]",
      "text/plain": [
       "<Figure size 2000x800 with 1 Axes>"
      ]
     },
     "metadata": {},
     "output_type": "display_data"
    }
   ],
   "source": [
    "query_prompt = \"drinkware glass\"\n",
    "v = embedding_model.embed_query(query_prompt)\n",
    "results = db.similarity_search_by_vector(v, k=2)\n",
    "\n",
    "all_images = get_image_from_faiss_results(results)\n",
    "\n",
    "display_images(all_images)\n",
    "\n"
   ]
  },
  {
   "cell_type": "markdown",
   "id": "e2ad56db-fc9f-482c-b110-2c8b3089113d",
   "metadata": {},
   "source": [
    "### 5.2 Perform Image Search based on Image Input\n",
    "\n",
    "Let’s take a look at the results based on a simple image. The input image will get coverted into vector embeddings and based on the similarity search, it will return the result,\n",
    "\n",
    "You can use any image, but for below example, we'll select a random image from the above dataset based on item_id (for ex. item_id = \"B07JCDQWM6\" ),  and then will send this image to search engine to find the similar items. First, Let's get the image amd image location based on the item id."
   ]
  },
  {
   "cell_type": "code",
   "execution_count": 27,
   "id": "cd83dc1b-f572-48a8-ad86-07e3cfee52d7",
   "metadata": {
    "tags": []
   },
   "outputs": [
    {
     "name": "stdout",
     "output_type": "stream",
     "text": [
      "AmazonBasics Serene 16-Piece Old Fashioned and Coolers Glass Drinkware Set\n"
     ]
    },
    {
     "data": {
      "image/jpeg": "[encoded data removed]",
      "image/png": "[encoded data removed]",
      "text/plain": [
       "<PIL.JpegImagePlugin.JpegImageFile image mode=RGB size=191x256>"
      ]
     },
     "execution_count": 27,
     "metadata": {},
     "output_type": "execute_result"
    }
   ],
   "source": [
    "item_id = \"B0896LJNLH\"\n",
    "\n",
    "image, item_name = get_image_from_item_id_s3(item_id = item_id, dataset = dataset, image_path = f's3://amazon-berkeley-objects/images/small/' )\n",
    "print(item_name)\n",
    "image"
   ]
  },
  {
   "cell_type": "markdown",
   "id": "4c90df57-6420-4024-ab8a-fc7bcd4c21a7",
   "metadata": {},
   "source": [
    "Then, get the similar items based on the image above"
   ]
  },
  {
   "cell_type": "code",
   "execution_count": 28,
   "id": "73910b22",
   "metadata": {
    "tags": []
   },
   "outputs": [],
   "source": [
    "\"\"\" \n",
    "Function for semantic search capability using knn on input image prompt.\n",
    "\"\"\"\n",
    "def find_similar_items_from_image(image_path: str, k_nn: int ) -> []:\n",
    "    \"\"\"\n",
    "    Main semantic search capability using knn on input image prompt.\n",
    "    Args:\n",
    "        k: number of top-k similar vectors to retrieve from OpenSearch index\n",
    "        num_results: number of the top-k similar vectors to retrieve\n",
    "        index_name: index name in OpenSearch\n",
    "    \"\"\"\n",
    "    query_emb = get_titan_multimodal_embedding_fix(image_path=search_image_path, dimension=1024)[\"embedding\"]\n",
    "    #print(query_emb)\n",
    "    results = db.similarity_search_by_vector(query_emb, k=2)\n",
    "    print(results)\n",
    "    image_list = get_image_from_faiss_results(results)\n",
    "    return image_list\n"
   ]
  },
  {
   "cell_type": "code",
   "execution_count": 29,
   "id": "f2f44217",
   "metadata": {
    "tags": []
   },
   "outputs": [
    {
     "name": "stdout",
     "output_type": "stream",
     "text": [
      "s3://amazon-berkeley-objects/images/small/07/075e5d67.jpg\n",
      " get_titan_multimodal_embedding_fix()::payload:keys=dict_keys(['inputImage'])::\n",
      "[Document(page_content='AmazonBasics Serene 16-Piece Old Fashioned and Coolers Glass Drinkware Set', metadata={'AmazonBasics Serene 16-Piece Old Fashioned and Coolers Glass Drinkware Set': 's3://amazon-berkeley-objects/images/small/07/075e5d67.jpg'}), Document(page_content='AmazonBasics Eastlake Coolers Glass Drinkware Set, 15-Ounce, Set of 6', metadata={'AmazonBasics Eastlake Coolers Glass Drinkware Set, 15-Ounce, Set of 6': 's3://amazon-berkeley-objects/images/small/ea/ea0c6da6.jpg'})]\n",
      "s3://amazon-berkeley-objects/images/small/07/075e5d67.jpg\n"
     ]
    },
    {
     "data": {
      "image/png": "[encoded data removed]",
      "text/plain": [
       "<Figure size 2000x800 with 1 Axes>"
      ]
     },
     "metadata": {},
     "output_type": "display_data"
    }
   ],
   "source": [
    "item_id = \"B0896LJNLH\"\n",
    "search_image_path = dataset[dataset['item_id']==item_id]['img_full_path'].iloc[0]\n",
    "print(search_image_path)\n",
    "\n",
    "image_list = find_similar_items_from_image(search_image_path, 2)\n",
    "display_images(image_list)"
   ]
  },
  {
   "cell_type": "markdown",
   "id": "d261cdb0",
   "metadata": {},
   "source": [
    "## Query an Image - Multimodal model Claude sonnet\n",
    "\n",
    " Now let us send in a query based on an image. The image is a generic flights dashboard"
   ]
  },
  {
   "cell_type": "code",
   "execution_count": 34,
   "id": "9fd1f466",
   "metadata": {
    "tags": []
   },
   "outputs": [],
   "source": [
    "from PIL import Image\n",
    "\n",
    "with open(\"./images/departure_rate.jpg\", \"rb\") as image_file:\n",
    "    content_image = base64.b64encode(image_file.read()).decode('utf8')"
   ]
  },
  {
   "cell_type": "code",
   "execution_count": 35,
   "id": "42af548b",
   "metadata": {
    "tags": []
   },
   "outputs": [
    {
     "data": {
      "text/plain": [
       "str"
      ]
     },
     "execution_count": 35,
     "metadata": {},
     "output_type": "execute_result"
    }
   ],
   "source": [
    "type(content_image)"
   ]
  },
  {
   "cell_type": "code",
   "execution_count": 36,
   "id": "d4ec7829",
   "metadata": {
    "tags": []
   },
   "outputs": [
    {
     "data": {
      "text/plain": [
       "{'id': 'msg_bdrk_01ABn4QFTauQXKN4LdqbcbX8',\n",
       " 'type': 'message',\n",
       " 'role': 'assistant',\n",
       " 'model': 'claude-3-sonnet-20240229',\n",
       " 'content': [{'type': 'text',\n",
       "   'text': 'According to the departures board shown in the image, here are the flight timings listed:\\n\\n18:03 - Current time displayed\\n18:08 - Flight to New York (AC 103)\\n18:16 - Flight to Berlin (CI5723)\\n18:38 - Flight to London (MU5984)\\n18:49 - Flight to Tokyo (JL 608)\\n19:07 - Flight to Hong Kong (CX'}],\n",
       " 'stop_reason': 'max_tokens',\n",
       " 'stop_sequence': None,\n",
       " 'usage': {'input_tokens': 776, 'output_tokens': 100}}"
      ]
     },
     "execution_count": 36,
     "metadata": {},
     "output_type": "execute_result"
    }
   ],
   "source": [
    "import json \n",
    "import boto3\n",
    "import os\n",
    "from IPython.display import Markdown, display\n",
    "\n",
    "\n",
    "\n",
    "region = os.environ.get(\"AWS_REGION\")\n",
    "bedrock = boto3.client(\n",
    "    service_name='bedrock-runtime',\n",
    "    region_name=region,\n",
    ")\n",
    "\n",
    "with open(\"./images/departure_rate.jpg\", \"rb\") as image_file:\n",
    "    content_image = base64.b64encode(image_file.read()).decode('utf8')\n",
    "\n",
    "body=json.dumps(\n",
    "        {\n",
    "            \"anthropic_version\": \"bedrock-2023-05-31\",\n",
    "            \"max_tokens\": 100,\n",
    "            \"messages\": [{\n",
    "                \"role\": \"user\",\n",
    "                \"content\": [{\n",
    "                  \"type\": \"image\",\n",
    "                  \"source\": {\n",
    "                    \"type\": \"base64\",\n",
    "                    \"media_type\": \"image/jpeg\",\n",
    "                    \"data\": content_image,\n",
    "                  }\n",
    "                },\n",
    "                {\n",
    "                  \"type\": \"text\",\n",
    "                  \"text\": \"Give me the flight timings from here.\"\n",
    "                }\n",
    "                ]\n",
    "            }],\n",
    "            \"temperature\": 0.5,\n",
    "            \"top_p\": 0.9\n",
    "        }  \n",
    "    )  \n",
    "modelId = \"anthropic.claude-3-sonnet-20240229-v1:0\"\n",
    "accept = \"application/json\"\n",
    "contentType = \"application/json\"\n",
    "\n",
    "response = bedrock.invoke_model(\n",
    "    body=body, modelId=modelId, accept=accept, contentType=contentType\n",
    ")\n",
    "response_body = json.loads(response.get(\"body\").read())\n",
    "response_body\n",
    "\n"
   ]
  },
  {
   "cell_type": "markdown",
   "id": "6113040e-a16c-4529-be74-b8baea9f6e28",
   "metadata": {},
   "source": [
    "## 6. Clean up"
   ]
  },
  {
   "cell_type": "markdown",
   "id": "87766ad7-6326-4000-a9de-3543c94fff47",
   "metadata": {},
   "source": [
    "When you finish this exercise, remove your resources with the following steps:\n",
    "\n",
    "Delete vector index.\n",
    "Delete data, network, and encryption access ploicies.\n",
    "Delete collection.\n",
    "Delete SageMaker Studio user profile and domain.\n",
    "Optionally, empty and delete the S3 bucket, or keep whatever you want.  "
   ]
  },
  {
   "cell_type": "code",
   "execution_count": null,
   "id": "0337b04e-d37c-400c-9899-d56b352f6c08",
   "metadata": {
    "tags": []
   },
   "outputs": [],
   "source": [
    "# - since these are in memory nothing to delete"
   ]
  },
  {
   "cell_type": "code",
   "execution_count": null,
   "id": "0a9fa0ee-8f55-4967-911f-b2e7a7462574",
   "metadata": {},
   "outputs": [],
   "source": []
  }
 ],
 "metadata": {
  "availableInstances": [
   {
    "_defaultOrder": 0,
    "_isFastLaunch": true,
    "category": "General purpose",
    "gpuNum": 0,
    "hideHardwareSpecs": false,
    "memoryGiB": 4,
    "name": "ml.t3.medium",
    "vcpuNum": 2
   },
   {
    "_defaultOrder": 1,
    "_isFastLaunch": false,
    "category": "General purpose",
    "gpuNum": 0,
    "hideHardwareSpecs": false,
    "memoryGiB": 8,
    "name": "ml.t3.large",
    "vcpuNum": 2
   },
   {
    "_defaultOrder": 2,
    "_isFastLaunch": false,
    "category": "General purpose",
    "gpuNum": 0,
    "hideHardwareSpecs": false,
    "memoryGiB": 16,
    "name": "ml.t3.xlarge",
    "vcpuNum": 4
   },
   {
    "_defaultOrder": 3,
    "_isFastLaunch": false,
    "category": "General purpose",
    "gpuNum": 0,
    "hideHardwareSpecs": false,
    "memoryGiB": 32,
    "name": "ml.t3.2xlarge",
    "vcpuNum": 8
   },
   {
    "_defaultOrder": 4,
    "_isFastLaunch": true,
    "category": "General purpose",
    "gpuNum": 0,
    "hideHardwareSpecs": false,
    "memoryGiB": 8,
    "name": "ml.m5.large",
    "vcpuNum": 2
   },
   {
    "_defaultOrder": 5,
    "_isFastLaunch": false,
    "category": "General purpose",
    "gpuNum": 0,
    "hideHardwareSpecs": false,
    "memoryGiB": 16,
    "name": "ml.m5.xlarge",
    "vcpuNum": 4
   },
   {
    "_defaultOrder": 6,
    "_isFastLaunch": false,
    "category": "General purpose",
    "gpuNum": 0,
    "hideHardwareSpecs": false,
    "memoryGiB": 32,
    "name": "ml.m5.2xlarge",
    "vcpuNum": 8
   },
   {
    "_defaultOrder": 7,
    "_isFastLaunch": false,
    "category": "General purpose",
    "gpuNum": 0,
    "hideHardwareSpecs": false,
    "memoryGiB": 64,
    "name": "ml.m5.4xlarge",
    "vcpuNum": 16
   },
   {
    "_defaultOrder": 8,
    "_isFastLaunch": false,
    "category": "General purpose",
    "gpuNum": 0,
    "hideHardwareSpecs": false,
    "memoryGiB": 128,
    "name": "ml.m5.8xlarge",
    "vcpuNum": 32
   },
   {
    "_defaultOrder": 9,
    "_isFastLaunch": false,
    "category": "General purpose",
    "gpuNum": 0,
    "hideHardwareSpecs": false,
    "memoryGiB": 192,
    "name": "ml.m5.12xlarge",
    "vcpuNum": 48
   },
   {
    "_defaultOrder": 10,
    "_isFastLaunch": false,
    "category": "General purpose",
    "gpuNum": 0,
    "hideHardwareSpecs": false,
    "memoryGiB": 256,
    "name": "ml.m5.16xlarge",
    "vcpuNum": 64
   },
   {
    "_defaultOrder": 11,
    "_isFastLaunch": false,
    "category": "General purpose",
    "gpuNum": 0,
    "hideHardwareSpecs": false,
    "memoryGiB": 384,
    "name": "ml.m5.24xlarge",
    "vcpuNum": 96
   },
   {
    "_defaultOrder": 12,
    "_isFastLaunch": false,
    "category": "General purpose",
    "gpuNum": 0,
    "hideHardwareSpecs": false,
    "memoryGiB": 8,
    "name": "ml.m5d.large",
    "vcpuNum": 2
   },
   {
    "_defaultOrder": 13,
    "_isFastLaunch": false,
    "category": "General purpose",
    "gpuNum": 0,
    "hideHardwareSpecs": false,
    "memoryGiB": 16,
    "name": "ml.m5d.xlarge",
    "vcpuNum": 4
   },
   {
    "_defaultOrder": 14,
    "_isFastLaunch": false,
    "category": "General purpose",
    "gpuNum": 0,
    "hideHardwareSpecs": false,
    "memoryGiB": 32,
    "name": "ml.m5d.2xlarge",
    "vcpuNum": 8
   },
   {
    "_defaultOrder": 15,
    "_isFastLaunch": false,
    "category": "General purpose",
    "gpuNum": 0,
    "hideHardwareSpecs": false,
    "memoryGiB": 64,
    "name": "ml.m5d.4xlarge",
    "vcpuNum": 16
   },
   {
    "_defaultOrder": 16,
    "_isFastLaunch": false,
    "category": "General purpose",
    "gpuNum": 0,
    "hideHardwareSpecs": false,
    "memoryGiB": 128,
    "name": "ml.m5d.8xlarge",
    "vcpuNum": 32
   },
   {
    "_defaultOrder": 17,
    "_isFastLaunch": false,
    "category": "General purpose",
    "gpuNum": 0,
    "hideHardwareSpecs": false,
    "memoryGiB": 192,
    "name": "ml.m5d.12xlarge",
    "vcpuNum": 48
   },
   {
    "_defaultOrder": 18,
    "_isFastLaunch": false,
    "category": "General purpose",
    "gpuNum": 0,
    "hideHardwareSpecs": false,
    "memoryGiB": 256,
    "name": "ml.m5d.16xlarge",
    "vcpuNum": 64
   },
   {
    "_defaultOrder": 19,
    "_isFastLaunch": false,
    "category": "General purpose",
    "gpuNum": 0,
    "hideHardwareSpecs": false,
    "memoryGiB": 384,
    "name": "ml.m5d.24xlarge",
    "vcpuNum": 96
   },
   {
    "_defaultOrder": 20,
    "_isFastLaunch": false,
    "category": "General purpose",
    "gpuNum": 0,
    "hideHardwareSpecs": true,
    "memoryGiB": 0,
    "name": "ml.geospatial.interactive",
    "supportedImageNames": [
     "sagemaker-geospatial-v1-0"
    ],
    "vcpuNum": 0
   },
   {
    "_defaultOrder": 21,
    "_isFastLaunch": true,
    "category": "Compute optimized",
    "gpuNum": 0,
    "hideHardwareSpecs": false,
    "memoryGiB": 4,
    "name": "ml.c5.large",
    "vcpuNum": 2
   },
   {
    "_defaultOrder": 22,
    "_isFastLaunch": false,
    "category": "Compute optimized",
    "gpuNum": 0,
    "hideHardwareSpecs": false,
    "memoryGiB": 8,
    "name": "ml.c5.xlarge",
    "vcpuNum": 4
   },
   {
    "_defaultOrder": 23,
    "_isFastLaunch": false,
    "category": "Compute optimized",
    "gpuNum": 0,
    "hideHardwareSpecs": false,
    "memoryGiB": 16,
    "name": "ml.c5.2xlarge",
    "vcpuNum": 8
   },
   {
    "_defaultOrder": 24,
    "_isFastLaunch": false,
    "category": "Compute optimized",
    "gpuNum": 0,
    "hideHardwareSpecs": false,
    "memoryGiB": 32,
    "name": "ml.c5.4xlarge",
    "vcpuNum": 16
   },
   {
    "_defaultOrder": 25,
    "_isFastLaunch": false,
    "category": "Compute optimized",
    "gpuNum": 0,
    "hideHardwareSpecs": false,
    "memoryGiB": 72,
    "name": "ml.c5.9xlarge",
    "vcpuNum": 36
   },
   {
    "_defaultOrder": 26,
    "_isFastLaunch": false,
    "category": "Compute optimized",
    "gpuNum": 0,
    "hideHardwareSpecs": false,
    "memoryGiB": 96,
    "name": "ml.c5.12xlarge",
    "vcpuNum": 48
   },
   {
    "_defaultOrder": 27,
    "_isFastLaunch": false,
    "category": "Compute optimized",
    "gpuNum": 0,
    "hideHardwareSpecs": false,
    "memoryGiB": 144,
    "name": "ml.c5.18xlarge",
    "vcpuNum": 72
   },
   {
    "_defaultOrder": 28,
    "_isFastLaunch": false,
    "category": "Compute optimized",
    "gpuNum": 0,
    "hideHardwareSpecs": false,
    "memoryGiB": 192,
    "name": "ml.c5.24xlarge",
    "vcpuNum": 96
   },
   {
    "_defaultOrder": 29,
    "_isFastLaunch": true,
    "category": "Accelerated computing",
    "gpuNum": 1,
    "hideHardwareSpecs": false,
    "memoryGiB": 16,
    "name": "ml.g4dn.xlarge",
    "vcpuNum": 4
   },
   {
    "_defaultOrder": 30,
    "_isFastLaunch": false,
    "category": "Accelerated computing",
    "gpuNum": 1,
    "hideHardwareSpecs": false,
    "memoryGiB": 32,
    "name": "ml.g4dn.2xlarge",
    "vcpuNum": 8
   },
   {
    "_defaultOrder": 31,
    "_isFastLaunch": false,
    "category": "Accelerated computing",
    "gpuNum": 1,
    "hideHardwareSpecs": false,
    "memoryGiB": 64,
    "name": "ml.g4dn.4xlarge",
    "vcpuNum": 16
   },
   {
    "_defaultOrder": 32,
    "_isFastLaunch": false,
    "category": "Accelerated computing",
    "gpuNum": 1,
    "hideHardwareSpecs": false,
    "memoryGiB": 128,
    "name": "ml.g4dn.8xlarge",
    "vcpuNum": 32
   },
   {
    "_defaultOrder": 33,
    "_isFastLaunch": false,
    "category": "Accelerated computing",
    "gpuNum": 4,
    "hideHardwareSpecs": false,
    "memoryGiB": 192,
    "name": "ml.g4dn.12xlarge",
    "vcpuNum": 48
   },
   {
    "_defaultOrder": 34,
    "_isFastLaunch": false,
    "category": "Accelerated computing",
    "gpuNum": 1,
    "hideHardwareSpecs": false,
    "memoryGiB": 256,
    "name": "ml.g4dn.16xlarge",
    "vcpuNum": 64
   },
   {
    "_defaultOrder": 35,
    "_isFastLaunch": false,
    "category": "Accelerated computing",
    "gpuNum": 1,
    "hideHardwareSpecs": false,
    "memoryGiB": 61,
    "name": "ml.p3.2xlarge",
    "vcpuNum": 8
   },
   {
    "_defaultOrder": 36,
    "_isFastLaunch": false,
    "category": "Accelerated computing",
    "gpuNum": 4,
    "hideHardwareSpecs": false,
    "memoryGiB": 244,
    "name": "ml.p3.8xlarge",
    "vcpuNum": 32
   },
   {
    "_defaultOrder": 37,
    "_isFastLaunch": false,
    "category": "Accelerated computing",
    "gpuNum": 8,
    "hideHardwareSpecs": false,
    "memoryGiB": 488,
    "name": "ml.p3.16xlarge",
    "vcpuNum": 64
   },
   {
    "_defaultOrder": 38,
    "_isFastLaunch": false,
    "category": "Accelerated computing",
    "gpuNum": 8,
    "hideHardwareSpecs": false,
    "memoryGiB": 768,
    "name": "ml.p3dn.24xlarge",
    "vcpuNum": 96
   },
   {
    "_defaultOrder": 39,
    "_isFastLaunch": false,
    "category": "Memory Optimized",
    "gpuNum": 0,
    "hideHardwareSpecs": false,
    "memoryGiB": 16,
    "name": "ml.r5.large",
    "vcpuNum": 2
   },
   {
    "_defaultOrder": 40,
    "_isFastLaunch": false,
    "category": "Memory Optimized",
    "gpuNum": 0,
    "hideHardwareSpecs": false,
    "memoryGiB": 32,
    "name": "ml.r5.xlarge",
    "vcpuNum": 4
   },
   {
    "_defaultOrder": 41,
    "_isFastLaunch": false,
    "category": "Memory Optimized",
    "gpuNum": 0,
    "hideHardwareSpecs": false,
    "memoryGiB": 64,
    "name": "ml.r5.2xlarge",
    "vcpuNum": 8
   },
   {
    "_defaultOrder": 42,
    "_isFastLaunch": false,
    "category": "Memory Optimized",
    "gpuNum": 0,
    "hideHardwareSpecs": false,
    "memoryGiB": 128,
    "name": "ml.r5.4xlarge",
    "vcpuNum": 16
   },
   {
    "_defaultOrder": 43,
    "_isFastLaunch": false,
    "category": "Memory Optimized",
    "gpuNum": 0,
    "hideHardwareSpecs": false,
    "memoryGiB": 256,
    "name": "ml.r5.8xlarge",
    "vcpuNum": 32
   },
   {
    "_defaultOrder": 44,
    "_isFastLaunch": false,
    "category": "Memory Optimized",
    "gpuNum": 0,
    "hideHardwareSpecs": false,
    "memoryGiB": 384,
    "name": "ml.r5.12xlarge",
    "vcpuNum": 48
   },
   {
    "_defaultOrder": 45,
    "_isFastLaunch": false,
    "category": "Memory Optimized",
    "gpuNum": 0,
    "hideHardwareSpecs": false,
    "memoryGiB": 512,
    "name": "ml.r5.16xlarge",
    "vcpuNum": 64
   },
   {
    "_defaultOrder": 46,
    "_isFastLaunch": false,
    "category": "Memory Optimized",
    "gpuNum": 0,
    "hideHardwareSpecs": false,
    "memoryGiB": 768,
    "name": "ml.r5.24xlarge",
    "vcpuNum": 96
   },
   {
    "_defaultOrder": 47,
    "_isFastLaunch": false,
    "category": "Accelerated computing",
    "gpuNum": 1,
    "hideHardwareSpecs": false,
    "memoryGiB": 16,
    "name": "ml.g5.xlarge",
    "vcpuNum": 4
   },
   {
    "_defaultOrder": 48,
    "_isFastLaunch": false,
    "category": "Accelerated computing",
    "gpuNum": 1,
    "hideHardwareSpecs": false,
    "memoryGiB": 32,
    "name": "ml.g5.2xlarge",
    "vcpuNum": 8
   },
   {
    "_defaultOrder": 49,
    "_isFastLaunch": false,
    "category": "Accelerated computing",
    "gpuNum": 1,
    "hideHardwareSpecs": false,
    "memoryGiB": 64,
    "name": "ml.g5.4xlarge",
    "vcpuNum": 16
   },
   {
    "_defaultOrder": 50,
    "_isFastLaunch": false,
    "category": "Accelerated computing",
    "gpuNum": 1,
    "hideHardwareSpecs": false,
    "memoryGiB": 128,
    "name": "ml.g5.8xlarge",
    "vcpuNum": 32
   },
   {
    "_defaultOrder": 51,
    "_isFastLaunch": false,
    "category": "Accelerated computing",
    "gpuNum": 1,
    "hideHardwareSpecs": false,
    "memoryGiB": 256,
    "name": "ml.g5.16xlarge",
    "vcpuNum": 64
   },
   {
    "_defaultOrder": 52,
    "_isFastLaunch": false,
    "category": "Accelerated computing",
    "gpuNum": 4,
    "hideHardwareSpecs": false,
    "memoryGiB": 192,
    "name": "ml.g5.12xlarge",
    "vcpuNum": 48
   },
   {
    "_defaultOrder": 53,
    "_isFastLaunch": false,
    "category": "Accelerated computing",
    "gpuNum": 4,
    "hideHardwareSpecs": false,
    "memoryGiB": 384,
    "name": "ml.g5.24xlarge",
    "vcpuNum": 96
   },
   {
    "_defaultOrder": 54,
    "_isFastLaunch": false,
    "category": "Accelerated computing",
    "gpuNum": 8,
    "hideHardwareSpecs": false,
    "memoryGiB": 768,
    "name": "ml.g5.48xlarge",
    "vcpuNum": 192
   },
   {
    "_defaultOrder": 55,
    "_isFastLaunch": false,
    "category": "Accelerated computing",
    "gpuNum": 8,
    "hideHardwareSpecs": false,
    "memoryGiB": 1152,
    "name": "ml.p4d.24xlarge",
    "vcpuNum": 96
   },
   {
    "_defaultOrder": 56,
    "_isFastLaunch": false,
    "category": "Accelerated computing",
    "gpuNum": 8,
    "hideHardwareSpecs": false,
    "memoryGiB": 1152,
    "name": "ml.p4de.24xlarge",
    "vcpuNum": 96
   },
   {
    "_defaultOrder": 57,
    "_isFastLaunch": false,
    "category": "Accelerated computing",
    "gpuNum": 0,
    "hideHardwareSpecs": false,
    "memoryGiB": 32,
    "name": "ml.trn1.2xlarge",
    "vcpuNum": 8
   },
   {
    "_defaultOrder": 58,
    "_isFastLaunch": false,
    "category": "Accelerated computing",
    "gpuNum": 0,
    "hideHardwareSpecs": false,
    "memoryGiB": 512,
    "name": "ml.trn1.32xlarge",
    "vcpuNum": 128
   },
   {
    "_defaultOrder": 59,
    "_isFastLaunch": false,
    "category": "Accelerated computing",
    "gpuNum": 0,
    "hideHardwareSpecs": false,
    "memoryGiB": 512,
    "name": "ml.trn1n.32xlarge",
    "vcpuNum": 128
   }
  ],
  "instance_type": "ml.t3.medium",
  "kernelspec": {
   "display_name": "Python 3 (Data Science 3.0)",
   "language": "python",
   "name": "python3__SAGEMAKER_INTERNAL__arn:aws:sagemaker:us-west-2:236514542706:image/sagemaker-data-science-310-v1"
  },
  "language_info": {
   "codemirror_mode": {
    "name": "ipython",
    "version": 3
   },
   "file_extension": ".py",
   "mimetype": "text/x-python",
   "name": "python",
   "nbconvert_exporter": "python",
   "pygments_lexer": "ipython3",
   "version": "3.10.6"
  }
 },
 "nbformat": 4,
 "nbformat_minor": 5
}
